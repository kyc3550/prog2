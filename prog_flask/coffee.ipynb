{
 "cells": [
  {
   "cell_type": "markdown",
   "id": "7a369342",
   "metadata": {},
   "source": [
    "### 20184645 김영찬 \n",
    "\n",
    "### flask, jinja2"
   ]
  },
  {
   "cell_type": "code",
   "execution_count": 1,
   "id": "3e1c3d12",
   "metadata": {},
   "outputs": [],
   "source": [
    "from flask import Flask, render_template"
   ]
  },
  {
   "cell_type": "code",
   "execution_count": 2,
   "id": "47f7da6d",
   "metadata": {},
   "outputs": [],
   "source": [
    "# 플라스크 객체 생성\n",
    "app = Flask(__name__)"
   ]
  },
  {
   "cell_type": "code",
   "execution_count": 3,
   "id": "8358e344",
   "metadata": {},
   "outputs": [],
   "source": [
    "# 데코레이터 ( 라우팅 경로 )\n",
    "@app.route(\"/prices\")\n",
    "def prices():\n",
    "    import random\n",
    "    import time\n",
    "    \n",
    "    p = random.uniform(4,7)  # 원두가격 랜덤 생성\n",
    "    price = round(p,2)       # 소수점 2째 자리까지 \n",
    "    daytime = time.asctime()\n",
    "    return render_template(\"prices.html\",pr=price, dt=daytime)"
   ]
  },
  {
   "cell_type": "code",
   "execution_count": null,
   "id": "6fd1349f",
   "metadata": {},
   "outputs": [
    {
     "name": "stdout",
     "output_type": "stream",
     "text": [
      " * Serving Flask app \"__main__\" (lazy loading)\n",
      " * Environment: production\n",
      "   WARNING: This is a development server. Do not use it in a production deployment.\n",
      "   Use a production WSGI server instead.\n",
      " * Debug mode: off\n"
     ]
    },
    {
     "name": "stderr",
     "output_type": "stream",
     "text": [
      " * Running on http://127.0.0.1:5000/ (Press CTRL+C to quit)\n",
      "127.0.0.1 - - [28/Sep/2021 20:53:34] \"\u001b[37mGET /prices HTTP/1.1\u001b[0m\" 200 -\n"
     ]
    }
   ],
   "source": [
    "# 플라스크 서버 구동\n",
    "if __name__ == \"__main__\":\n",
    "    app.run() # 실행되는 컴퓨터 IP 주소, 포트번호 5000"
   ]
  },
  {
   "cell_type": "code",
   "execution_count": null,
   "id": "0f603a7f",
   "metadata": {},
   "outputs": [],
   "source": []
  }
 ],
 "metadata": {
  "kernelspec": {
   "display_name": "Python 3",
   "language": "python",
   "name": "python3"
  },
  "language_info": {
   "codemirror_mode": {
    "name": "ipython",
    "version": 3
   },
   "file_extension": ".py",
   "mimetype": "text/x-python",
   "name": "python",
   "nbconvert_exporter": "python",
   "pygments_lexer": "ipython3",
   "version": "3.8.8"
  }
 },
 "nbformat": 4,
 "nbformat_minor": 5
}
