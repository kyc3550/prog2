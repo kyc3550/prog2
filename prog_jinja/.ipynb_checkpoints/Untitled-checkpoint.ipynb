{
 "cells": [
  {
   "cell_type": "markdown",
   "id": "9be288e4",
   "metadata": {},
   "source": [
    "### 20184645 김영찬\n",
    "### jinja 템프릿 구문 예 if"
   ]
  },
  {
   "cell_type": "code",
   "execution_count": null,
   "id": "e271f221",
   "metadata": {},
   "outputs": [],
   "source": [
    "from flask import Flask,render_template"
   ]
  },
  {
   "cell_type": "code",
   "execution_count": null,
   "id": "b7ba94c4",
   "metadata": {},
   "outputs": [],
   "source": [
    "app = Flask(__name__)"
   ]
  },
  {
   "cell_type": "code",
   "execution_count": null,
   "id": "de8c972c",
   "metadata": {},
   "outputs": [],
   "source": [
    "@app.route(\"/if\")\n",
    "def if_test():\n",
    "    return render_template(\"condition.html\", size=\"Big\")"
   ]
  },
  {
   "cell_type": "code",
   "execution_count": null,
   "id": "8b6061e8",
   "metadata": {},
   "outputs": [],
   "source": [
    "if __name__ ==\"__main__\":\n",
    "    app.run(port=\"8080\")"
   ]
  },
  {
   "cell_type": "code",
   "execution_count": null,
   "id": "09b8df07",
   "metadata": {},
   "outputs": [],
   "source": []
  }
 ],
 "metadata": {
  "kernelspec": {
   "display_name": "Python 3",
   "language": "python",
   "name": "python3"
  },
  "language_info": {
   "codemirror_mode": {
    "name": "ipython",
    "version": 3
   },
   "file_extension": ".py",
   "mimetype": "text/x-python",
   "name": "python",
   "nbconvert_exporter": "python",
   "pygments_lexer": "ipython3",
   "version": "3.8.8"
  }
 },
 "nbformat": 4,
 "nbformat_minor": 5
}
