{
 "cells": [
  {
   "cell_type": "markdown",
   "id": "a5c500c2",
   "metadata": {},
   "source": [
    "### 20184546 김영찬\n",
    "### jinja 템플릿 구문 예 for"
   ]
  },
  {
   "cell_type": "code",
   "execution_count": 1,
   "id": "fc7e699c",
   "metadata": {},
   "outputs": [],
   "source": [
    "from flask import Flask,render_template"
   ]
  },
  {
   "cell_type": "code",
   "execution_count": 2,
   "id": "3a938a9b",
   "metadata": {},
   "outputs": [],
   "source": [
    "app = Flask(__name__)"
   ]
  },
  {
   "cell_type": "code",
   "execution_count": 3,
   "id": "28ab9e51",
   "metadata": {},
   "outputs": [],
   "source": [
    "@app.route(\"/for\")\n",
    "def loop_test():\n",
    "    dept_list = ['컴퓨터공학과','전자공학과','기계공학과','화공과']\n",
    "    return render_template(\"loop.html\", values=dept_list)"
   ]
  },
  {
   "cell_type": "code",
   "execution_count": null,
   "id": "a2cf13f7",
   "metadata": {},
   "outputs": [
    {
     "name": "stdout",
     "output_type": "stream",
     "text": [
      " * Serving Flask app \"__main__\" (lazy loading)\n",
      " * Environment: production\n",
      "   WARNING: This is a development server. Do not use it in a production deployment.\n",
      "   Use a production WSGI server instead.\n",
      " * Debug mode: off\n"
     ]
    },
    {
     "name": "stderr",
     "output_type": "stream",
     "text": [
      " * Running on http://127.0.0.1:8000/ (Press CTRL+C to quit)\n",
      "127.0.0.1 - - [28/Sep/2021 21:20:08] \"\u001b[37mGET /for HTTP/1.1\u001b[0m\" 200 -\n",
      "127.0.0.1 - - [28/Sep/2021 21:20:08] \"\u001b[37mGET /for HTTP/1.1\u001b[0m\" 200 -\n"
     ]
    }
   ],
   "source": [
    "if __name__ == '__main__':\n",
    "    app.run(port=\"8000\")\n",
    "    "
   ]
  },
  {
   "cell_type": "code",
   "execution_count": null,
   "id": "ee32b572",
   "metadata": {},
   "outputs": [],
   "source": []
  }
 ],
 "metadata": {
  "kernelspec": {
   "display_name": "Python 3",
   "language": "python",
   "name": "python3"
  },
  "language_info": {
   "codemirror_mode": {
    "name": "ipython",
    "version": 3
   },
   "file_extension": ".py",
   "mimetype": "text/x-python",
   "name": "python",
   "nbconvert_exporter": "python",
   "pygments_lexer": "ipython3",
   "version": "3.8.8"
  }
 },
 "nbformat": 4,
 "nbformat_minor": 5
}
