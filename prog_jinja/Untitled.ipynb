{
 "cells": [
  {
   "cell_type": "markdown",
   "id": "4d2c6c75",
   "metadata": {},
   "source": [
    "### 20184645 김영찬\n",
    "### jinja 템프릿 구문 예 if"
   ]
  },
  {
   "cell_type": "code",
   "execution_count": 1,
   "id": "53aa6d08",
   "metadata": {},
   "outputs": [],
   "source": [
    "from flask import Flask,render_template"
   ]
  },
  {
   "cell_type": "code",
   "execution_count": 2,
   "id": "2e576398",
   "metadata": {},
   "outputs": [],
   "source": [
    "app = Flask(__name__)"
   ]
  },
  {
   "cell_type": "code",
   "execution_count": 3,
   "id": "dea291d0",
   "metadata": {},
   "outputs": [],
   "source": [
    "@app.route(\"/if\")\n",
    "def if_test():\n",
    "    return render_template(\"condition.html\", size=\"Big\")"
   ]
  },
  {
   "cell_type": "code",
   "execution_count": null,
   "id": "36a22caa",
   "metadata": {},
   "outputs": [
    {
     "name": "stdout",
     "output_type": "stream",
     "text": [
      " * Serving Flask app \"__main__\" (lazy loading)\n",
      " * Environment: production\n",
      "   WARNING: This is a development server. Do not use it in a production deployment.\n",
      "   Use a production WSGI server instead.\n",
      " * Debug mode: off\n"
     ]
    },
    {
     "name": "stderr",
     "output_type": "stream",
     "text": [
      " * Running on http://127.0.0.1:8080/ (Press CTRL+C to quit)\n",
      "127.0.0.1 - - [28/Sep/2021 21:34:38] \"\u001b[37mGET /if HTTP/1.1\u001b[0m\" 200 -\n",
      "127.0.0.1 - - [28/Sep/2021 21:34:38] \"\u001b[33mGET /favicon.ico HTTP/1.1\u001b[0m\" 404 -\n"
     ]
    }
   ],
   "source": [
    "if __name__ ==\"__main__\":\n",
    "    app.run(port=\"8080\")"
   ]
  },
  {
   "cell_type": "code",
   "execution_count": null,
   "id": "78dd93e3",
   "metadata": {},
   "outputs": [],
   "source": []
  }
 ],
 "metadata": {
  "kernelspec": {
   "display_name": "Python 3",
   "language": "python",
   "name": "python3"
  },
  "language_info": {
   "codemirror_mode": {
    "name": "ipython",
    "version": 3
   },
   "file_extension": ".py",
   "mimetype": "text/x-python",
   "name": "python",
   "nbconvert_exporter": "python",
   "pygments_lexer": "ipython3",
   "version": "3.8.8"
  }
 },
 "nbformat": 4,
 "nbformat_minor": 5
}
