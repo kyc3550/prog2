{
 "cells": [
  {
   "cell_type": "markdown",
   "id": "b752dfe3",
   "metadata": {},
   "source": [
    "    ### 20184645 김영찬"
   ]
  },
  {
   "cell_type": "code",
   "execution_count": 1,
   "id": "c3b410b4",
   "metadata": {},
   "outputs": [
    {
     "name": "stdout",
     "output_type": "stream",
     "text": [
      "Requirement already satisfied: selenium in c:\\users\\rmawk\\appdata\\local\\programs\\python\\python39\\lib\\site-packages (3.141.0)\n",
      "Requirement already satisfied: urllib3 in c:\\users\\rmawk\\appdata\\local\\programs\\python\\python39\\lib\\site-packages (from selenium) (1.26.6)\n",
      "Requirement already satisfied: bs4 in c:\\users\\rmawk\\appdata\\local\\programs\\python\\python39\\lib\\site-packages (0.0.1)\n",
      "Requirement already satisfied: beautifulsoup4 in c:\\users\\rmawk\\appdata\\local\\programs\\python\\python39\\lib\\site-packages (from bs4) (4.10.0)\n",
      "Requirement already satisfied: soupsieve>1.2 in c:\\users\\rmawk\\appdata\\local\\programs\\python\\python39\\lib\\site-packages (from beautifulsoup4->bs4) (2.2.1)\n",
      "Requirement already satisfied: flask in c:\\users\\rmawk\\appdata\\local\\programs\\python\\python39\\lib\\site-packages (2.0.1)\n",
      "Requirement already satisfied: Werkzeug>=2.0 in c:\\users\\rmawk\\appdata\\local\\programs\\python\\python39\\lib\\site-packages (from flask) (2.0.1)\n",
      "Requirement already satisfied: click>=7.1.2 in c:\\users\\rmawk\\appdata\\local\\programs\\python\\python39\\lib\\site-packages (from flask) (8.0.1)\n",
      "Requirement already satisfied: Jinja2>=3.0 in c:\\users\\rmawk\\appdata\\local\\programs\\python\\python39\\lib\\site-packages (from flask) (3.0.1)\n",
      "Requirement already satisfied: itsdangerous>=2.0 in c:\\users\\rmawk\\appdata\\local\\programs\\python\\python39\\lib\\site-packages (from flask) (2.0.1)\n",
      "Requirement already satisfied: colorama in c:\\users\\rmawk\\appdata\\local\\programs\\python\\python39\\lib\\site-packages (from click>=7.1.2->flask) (0.4.4)\n",
      "Requirement already satisfied: MarkupSafe>=2.0 in c:\\users\\rmawk\\appdata\\local\\programs\\python\\python39\\lib\\site-packages (from Jinja2>=3.0->flask) (2.0.1)\n"
     ]
    }
   ],
   "source": [
    "# 크롤링에 필요한 각 라이브러리, 모둘 임포트 및 설치\n",
    "!pip install selenium\n",
    "!pip install bs4\n",
    "!pip install flask\n",
    "import re\n",
    "import time # 웹 페이지가 뜨는 동안 시간지연을 하기 위해 임포트\n",
    "import urllib\n",
    "from selenium import webdriver\n",
    "from bs4 import BeautifulSoup\n",
    "from flask import Flask,render_template"
   ]
  },
  {
   "cell_type": "code",
   "execution_count": 2,
   "id": "d3022421",
   "metadata": {},
   "outputs": [],
   "source": [
    "app = Flask(__name__)"
   ]
  },
  {
   "cell_type": "code",
   "execution_count": 3,
   "id": "77794752",
   "metadata": {},
   "outputs": [],
   "source": [
    "# 먼저, 크롬을 켜 알바몬 사이트에 접속\n",
    "browser = webdriver.Chrome(\"./chromedriver.exe\")\n",
    "browser.get(\"https://www.albamon.com/main\")"
   ]
  },
  {
   "cell_type": "code",
   "execution_count": 4,
   "id": "7c97da51",
   "metadata": {},
   "outputs": [],
   "source": [
    "\n",
    "# 맨 처음 홈페이지에 들어가고 기업/개인 을 선택하는 팝업에서 개인을 클릭\n",
    "main=browser.find_element_by_id(\"btn_MType\")\n",
    "main.click()\n",
    "\n",
    "# 크롤링 할 위치인 내가 사는 지역인 경기 - 수원시 장안구 - 장안구 전체 를 선택 후 검색\n",
    "browser.find_element_by_link_text(\"경기\").click()\n",
    "browser.find_element_by_link_text(\"수원시 장안구\").click()\n",
    "time.sleep(1)\n",
    "browser.find_element_by_id(\"dev_area_dong_code_B190\").click()\n",
    "s_location=browser.find_element_by_class_name(\"sch\")\n",
    "s_location.click()\n",
    "time.sleep(1) # 위치가 바뀌고 브라우저가 새로고침 되는동안 다음 동작이 실행되면 오류가 나기떄문에 1초의 시간지연을 두었음."
   ]
  },
  {
   "cell_type": "code",
   "execution_count": 5,
   "id": "4d47f916",
   "metadata": {},
   "outputs": [],
   "source": [
    "\n",
    "# 본격적으로 필요한 자료들을 불러오기 위해 뷰티풀 숩 객체 생성\n",
    "# current_url은 내가 직접 페에지를 들어간것이 아니고 위의 코드에서 자동으로 페이지에 들어갔기 떄문에\n",
    "# 현재 탭의 url을 가져와 준다.\n",
    "\n",
    "base_url = urllib.request.urlopen(browser.current_url).read()\n",
    "soup = BeautifulSoup(base_url,\"html.parser\")\n",
    "\n",
    "ths = []  # 테이블의 헤드를 담기 위한 리스트\n",
    "tds = []\n",
    "alba_data = []\n",
    "\n",
    "def no_space(data):\n",
    "    data1 = re.sub('\\n|\\r|\\t|  ','',str(data))\n",
    "    data2 = re.sub('\\r\\n','',data1)\n",
    "    return data2\n",
    "\n",
    "\n",
    "# 지역 선택후 나온 페이지의 하단의 알바 정보들이 모영있는 테이블을 find\n",
    "wrap = soup.find('div',{\"class\":\"gListWrap\"}) \n",
    "table = wrap.find('table')\n",
    "t_head = table.find('thead').find_all('th') # 찾은 테이블의 헤드(카테고리?(지역/금여금액/직업명 등등..))\n",
    "t_body = table.find('tbody') # 찾은 테이블의 바디(알바들의 직접적인 정보)\n",
    "\n",
    "# 테이블의 헤드를 하니싹 ths리스트에 담는다.\n",
    "for th in t_head:\n",
    "    ths.append(th.get_text())\n",
    "\n",
    "# 알바 정보들의 직접적인 정보들을 수집\n",
    "for tr in t_body.find_all('tr'):\n",
    "    area = tr.find('td',{'class':'area'}).find('div') # 알바를 하는 지역의 정보를 담고 있는 div태그\n",
    "    area.span.decompose() # 이 div 태그에는 span태그안에 다른 텍스트가 있는데 이 택스트를 제외한 값만 가져오기 위하여 사용\n",
    "    subject_name = tr.find('td',{'class':'subject'}).find('p',{'class':'cName'}).text # p태그 안의 cName(기업명)을 수집\n",
    "    subject_ctit = tr.find('td',{'class':'subject'}).find('p',{'class':'cTit'}).text # p태그 안의 cTit(모집 제목)을 수집\n",
    "    pay_money = tr.find('td',{'class':'pay'}).find('p',{'class':'money'}).find(\"img\")[\"alt\"] \n",
    "    #일급 / 시급 / 월급과 같은 급여 지급방식이 나뉘어져 있는데 이 부분은 img 태그안의 alt속성에 표기되어있어 리스트의 [\"alt\"]의 택스트만 수집\n",
    "    pay_won = tr.find('td',{'class':'pay'}).find('p',{'class':'won'}).text # p태그 안의 won(급여)을 수집\n",
    "\n",
    "    # for문을 한개만 사용하여 접근하려 했지만 급여 시간의 td태그에는 class 이름이 없었기 떄문에 결국 for문을 한개 더사용하여\n",
    "    # 3번째 위치에 있는 급여 시간 수집\n",
    "    tds = list(tr.find_all('td'))\n",
    "    for td in tds:\n",
    "        time = tds[3].text\n",
    "\n",
    "\n",
    "    alba_data.append([no_space(area.text),no_space(subject_name),no_space(subject_ctit),no_space(pay_money),no_space(pay_won),no_space(time)])\n",
    "\n",
    "@app.route(\"/albamon\")\n",
    "def albamon():\n",
    "    return render_template(\"alba.html\",alba_data = alba_data,ths=ths)"
   ]
  },
  {
   "cell_type": "code",
   "execution_count": null,
   "id": "6b0b4dda",
   "metadata": {},
   "outputs": [
    {
     "name": "stdout",
     "output_type": "stream",
     "text": [
      " * Serving Flask app '__main__' (lazy loading)\n",
      " * Environment: production\n",
      "\u001b[31m   WARNING: This is a development server. Do not use it in a production deployment.\u001b[0m\n",
      "\u001b[2m   Use a production WSGI server instead.\u001b[0m\n",
      " * Debug mode: off\n"
     ]
    },
    {
     "name": "stderr",
     "output_type": "stream",
     "text": [
      " * Running on http://127.0.0.1:8080/ (Press CTRL+C to quit)\n",
      "[2021-09-29 14:12:45,232] ERROR in app: Exception on /albamon [GET]\n",
      "Traceback (most recent call last):\n",
      "  File \"c:\\users\\rmawk\\appdata\\local\\programs\\python\\python39\\lib\\site-packages\\flask\\app.py\", line 2070, in wsgi_app\n",
      "    response = self.full_dispatch_request()\n",
      "  File \"c:\\users\\rmawk\\appdata\\local\\programs\\python\\python39\\lib\\site-packages\\flask\\app.py\", line 1515, in full_dispatch_request\n",
      "    rv = self.handle_user_exception(e)\n",
      "  File \"c:\\users\\rmawk\\appdata\\local\\programs\\python\\python39\\lib\\site-packages\\flask\\app.py\", line 1513, in full_dispatch_request\n",
      "    rv = self.dispatch_request()\n",
      "  File \"c:\\users\\rmawk\\appdata\\local\\programs\\python\\python39\\lib\\site-packages\\flask\\app.py\", line 1499, in dispatch_request\n",
      "    return self.ensure_sync(self.view_functions[rule.endpoint])(**req.view_args)\n",
      "  File \"C:\\Users\\rmawk\\AppData\\Local\\Temp/ipykernel_16648/1287841609.py\", line 49, in albamon\n",
      "    return render_template(\"alba.html\",alba_data = alba_data,ths=ths)\n",
      "  File \"c:\\users\\rmawk\\appdata\\local\\programs\\python\\python39\\lib\\site-packages\\flask\\templating.py\", line 148, in render_template\n",
      "    ctx.app.jinja_env.get_or_select_template(template_name_or_list),\n",
      "  File \"c:\\users\\rmawk\\appdata\\local\\programs\\python\\python39\\lib\\site-packages\\jinja2\\environment.py\", line 1068, in get_or_select_template\n",
      "    return self.get_template(template_name_or_list, parent, globals)\n",
      "  File \"c:\\users\\rmawk\\appdata\\local\\programs\\python\\python39\\lib\\site-packages\\jinja2\\environment.py\", line 997, in get_template\n",
      "    return self._load_template(name, globals)\n",
      "  File \"c:\\users\\rmawk\\appdata\\local\\programs\\python\\python39\\lib\\site-packages\\jinja2\\environment.py\", line 958, in _load_template\n",
      "    template = self.loader.load(self, name, self.make_globals(globals))\n",
      "  File \"c:\\users\\rmawk\\appdata\\local\\programs\\python\\python39\\lib\\site-packages\\jinja2\\loaders.py\", line 125, in load\n",
      "    source, filename, uptodate = self.get_source(environment, name)\n",
      "  File \"c:\\users\\rmawk\\appdata\\local\\programs\\python\\python39\\lib\\site-packages\\flask\\templating.py\", line 59, in get_source\n",
      "    return self._get_source_fast(environment, template)\n",
      "  File \"c:\\users\\rmawk\\appdata\\local\\programs\\python\\python39\\lib\\site-packages\\flask\\templating.py\", line 95, in _get_source_fast\n",
      "    raise TemplateNotFound(template)\n",
      "jinja2.exceptions.TemplateNotFound: alba.html\n",
      "127.0.0.1 - - [29/Sep/2021 14:12:45] \"GET /albamon HTTP/1.1\" 500 -\n"
     ]
    }
   ],
   "source": [
    "if __name__ == \"__main__\":\n",
    "    app.run(port=\"8080\")"
   ]
  },
  {
   "cell_type": "code",
   "execution_count": null,
   "id": "3ef05385",
   "metadata": {},
   "outputs": [],
   "source": []
  }
 ],
 "metadata": {
  "kernelspec": {
   "display_name": "Python 3 (ipykernel)",
   "language": "python",
   "name": "python3"
  },
  "language_info": {
   "codemirror_mode": {
    "name": "ipython",
    "version": 3
   },
   "file_extension": ".py",
   "mimetype": "text/x-python",
   "name": "python",
   "nbconvert_exporter": "python",
   "pygments_lexer": "ipython3",
   "version": "3.9.4"
  }
 },
 "nbformat": 4,
 "nbformat_minor": 5
}
