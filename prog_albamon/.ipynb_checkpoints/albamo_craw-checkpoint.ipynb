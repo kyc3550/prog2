{
 "cells": [
  {
   "cell_type": "markdown",
   "id": "1c646911",
   "metadata": {},
   "source": [
    "### 알바몬 크롤러\n",
    "### 20184645 김영찬"
   ]
  },
  {
   "cell_type": "code",
   "execution_count": 121,
   "id": "59540770",
   "metadata": {},
   "outputs": [
    {
     "name": "stdout",
     "output_type": "stream",
     "text": [
      "Requirement already satisfied: selenium in c:\\users\\rmawk\\appdata\\local\\programs\\python\\python39\\lib\\site-packages (3.141.0)\n",
      "Requirement already satisfied: urllib3 in c:\\users\\rmawk\\appdata\\local\\programs\\python\\python39\\lib\\site-packages (from selenium) (1.26.6)\n",
      "Collecting bs4\n",
      "  Downloading bs4-0.0.1.tar.gz (1.1 kB)\n",
      "Collecting beautifulsoup4\n",
      "  Downloading beautifulsoup4-4.10.0-py3-none-any.whl (97 kB)\n",
      "Collecting soupsieve>1.2\n",
      "  Downloading soupsieve-2.2.1-py3-none-any.whl (33 kB)\n",
      "Using legacy 'setup.py install' for bs4, since package 'wheel' is not installed.\n",
      "Installing collected packages: soupsieve, beautifulsoup4, bs4\n",
      "    Running setup.py install for bs4: started\n",
      "    Running setup.py install for bs4: finished with status 'done'\n",
      "Successfully installed beautifulsoup4-4.10.0 bs4-0.0.1 soupsieve-2.2.1\n"
     ]
    }
   ],
   "source": [
    "!pip install selenium\n",
    "!pip install bs4\n",
    "import time\n",
    "from selenium import webdriver\n",
    "from bs4 import BeautifulSoup"
   ]
  },
  {
   "cell_type": "code",
   "execution_count": 118,
   "id": "bafa9524",
   "metadata": {},
   "outputs": [],
   "source": [
    "# 먼저, 크롬을 켜 알바몬 사이트에 접속\n",
    "browser = webdriver.Chrome(\"./chromedriver.exe\")\n",
    "browser.get(\"https://www.albamon.com/main\")"
   ]
  },
  {
   "cell_type": "code",
   "execution_count": 119,
   "id": "01a64417",
   "metadata": {},
   "outputs": [
    {
     "name": "stdout",
     "output_type": "stream",
     "text": [
      "https://www.albamon.com/recruit/area?rArea=,B190&rWDate=1\n"
     ]
    }
   ],
   "source": [
    "main=browser.find_element_by_id(\"btn_MType\")\n",
    "main.click()\n",
    "\n",
    "browser.find_element_by_link_text(\"경기\").click()\n",
    "browser.find_element_by_link_text(\"수원시 장안구\").click()\n",
    "time.sleep(1)\n",
    "browser.find_element_by_id(\"dev_area_dong_code_B190\").click()\n",
    "s_location=browser.find_element_by_class_name(\"sch\")\n",
    "s_location.click()\n",
    "time.sleep(1)"
   ]
  },
  {
   "cell_type": "code",
   "execution_count": null,
   "id": "714d471c",
   "metadata": {},
   "outputs": [],
   "source": [
    "base_url = browser.current_url"
   ]
  },
  {
   "cell_type": "code",
   "execution_count": null,
   "id": "4381f3d2",
   "metadata": {},
   "outputs": [],
   "source": []
  },
  {
   "cell_type": "code",
   "execution_count": null,
   "id": "4e41a851",
   "metadata": {},
   "outputs": [],
   "source": []
  },
  {
   "cell_type": "code",
   "execution_count": null,
   "id": "5d4eae1a",
   "metadata": {},
   "outputs": [],
   "source": []
  },
  {
   "cell_type": "code",
   "execution_count": null,
   "id": "232f8776",
   "metadata": {},
   "outputs": [],
   "source": []
  }
 ],
 "metadata": {
  "kernelspec": {
   "display_name": "Python 3 (ipykernel)",
   "language": "python",
   "name": "python3"
  },
  "language_info": {
   "codemirror_mode": {
    "name": "ipython",
    "version": 3
   },
   "file_extension": ".py",
   "mimetype": "text/x-python",
   "name": "python",
   "nbconvert_exporter": "python",
   "pygments_lexer": "ipython3",
   "version": "3.9.4"
  }
 },
 "nbformat": 4,
 "nbformat_minor": 5
}
