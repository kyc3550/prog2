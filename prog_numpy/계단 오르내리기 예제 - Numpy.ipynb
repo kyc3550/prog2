{
 "cells": [
  {
   "cell_type": "markdown",
   "id": "f4217557",
   "metadata": {},
   "source": [
    "### 20184645 김영찬 \n",
    "### 계단오르내리기 예제 - Numpy\n"
   ]
  },
  {
   "cell_type": "code",
   "execution_count": 1,
   "id": "281f7182",
   "metadata": {},
   "outputs": [],
   "source": [
    "import numpy as np\n",
    "def pprint(arr, s):\n",
    "    print(\"shape: {}, dimension: {}, dtype:{}\".format(arr.shape, arr.ndim, arr.dtype))\n",
    "    print(s)\n",
    "    print(arr)"
   ]
  },
  {
   "cell_type": "code",
   "execution_count": 2,
   "id": "7385ef6f",
   "metadata": {},
   "outputs": [
    {
     "name": "stdout",
     "output_type": "stream",
     "text": [
      "shape: (100,), dimension: 1, dtype:int32\n",
      "draws => \n",
      "[0 0 0 1 1 1 0 0 1 0 0 1 1 0 0 1 1 0 1 1 0 0 0 0 1 0 1 0 1 1 1 0 0 1 0 0 0\n",
      " 1 0 1 1 1 0 0 0 0 1 1 1 1 1 1 0 0 1 1 1 1 1 1 0 1 1 1 0 0 0 0 0 0 0 0 1 1\n",
      " 0 1 1 1 1 1 1 1 0 0 1 1 0 1 1 1 1 1 0 1 0 1 0 0 1 0]\n",
      "shape: (100,), dimension: 1, dtype:int32\n",
      "steps => \n",
      "[-1 -1 -1  1  1  1 -1 -1  1 -1 -1  1  1 -1 -1  1  1 -1  1  1 -1 -1 -1 -1\n",
      "  1 -1  1 -1  1  1  1 -1 -1  1 -1 -1 -1  1 -1  1  1  1 -1 -1 -1 -1  1  1\n",
      "  1  1  1  1 -1 -1  1  1  1  1  1  1 -1  1  1  1 -1 -1 -1 -1 -1 -1 -1 -1\n",
      "  1  1 -1  1  1  1  1  1  1  1 -1 -1  1  1 -1  1  1  1  1  1 -1  1 -1  1\n",
      " -1 -1  1 -1]\n",
      "shape: (100,), dimension: 1, dtype:int32\n",
      "walk => \n",
      "[-1 -2 -3 -2 -1  0 -1 -2 -1 -2 -3 -2 -1 -2 -3 -2 -1 -2 -1  0 -1 -2 -3 -4\n",
      " -3 -4 -3 -4 -3 -2 -1 -2 -3 -2 -3 -4 -5 -4 -5 -4 -3 -2 -3 -4 -5 -6 -5 -4\n",
      " -3 -2 -1  0 -1 -2 -1  0  1  2  3  4  3  4  5  6  5  4  3  2  1  0 -1 -2\n",
      " -1  0 -1  0  1  2  3  4  5  6  5  4  5  6  5  6  7  8  9 10  9 10  9 10\n",
      "  9  8  9  8]\n"
     ]
    }
   ],
   "source": [
    "nsteps = 100\n",
    "# 각 계단 위치의 난수 배열, 0<= n <2\n",
    "draws = np.random.randint(0, 2, size=nsteps)\n",
    "pprint(draws, \"draws => \")\n",
    "\n",
    "# 각 계단에 오르기/내리기 배열\n",
    "steps = np.where(draws > 0, 1, -1)\n",
    "pprint(steps, \"steps => \")\n",
    "\n",
    "# 계단의 위치 값(누적 합) 배열\n",
    "walk = steps.cumsum()\n",
    "pprint(walk, \"walk => \")"
   ]
  },
  {
   "cell_type": "code",
   "execution_count": 3,
   "id": "1f413ca6",
   "metadata": {},
   "outputs": [
    {
     "data": {
      "image/png": "[encoded data removed]",
      "text/plain": [
       "<Figure size 432x288 with 1 Axes>"
      ]
     },
     "metadata": {
      "needs_background": "light"
     },
     "output_type": "display_data"
    }
   ],
   "source": [
    "%matplotlib inline\n",
    "import matplotlib.pyplot as plt\n",
    "x = range(nsteps) # x 축: 0 ~ 99\n",
    "plt.title(\"Random walk with +1/-1 steps\")\n",
    "plt.plot(x, walk)\n",
    "plt.show()"
   ]
  },
  {
   "cell_type": "code",
   "execution_count": 5,
   "id": "936f7cfa",
   "metadata": {},
   "outputs": [
    {
     "name": "stdout",
     "output_type": "stream",
     "text": [
      "max =>  10\n",
      "min =>  -6\n",
      "shape: (100,), dimension: 1, dtype:bool\n",
      "hist5 => \n",
      "[False False False False False False False False False False False False\n",
      " False False False False False False False False False False False False\n",
      " False False False False False False False False False False False False\n",
      "  True False  True False False False False False  True  True  True False\n",
      " False False False False False False False False False False False False\n",
      " False False  True  True  True False False False False False False False\n",
      " False False False False False False False False  True  True  True False\n",
      "  True  True  True  True  True  True  True  True  True  True  True  True\n",
      "  True  True  True  True]\n",
      "hist5 # =>  27\n",
      "first pos over 5 =>  36\n"
     ]
    }
   ],
   "source": [
    "# 각 계단에서의 최대/최소값\n",
    "print(\"max => \", walk.max())\n",
    "print(\"min => \", walk.min())\n",
    "\n",
    "# 계단 위치 값(누적 합) 절대값이 5 이상 되는 위치\n",
    "hist5 = (np.abs(walk) >= 5)\n",
    "pprint(hist5, \"hist5 => \")\n",
    "\n",
    "# 누적 합 절대값이 5이상 되는 횟 수\n",
    "print(\"hist5 # => \", hist5.sum())\n",
    "\n",
    "# 누적 합 절대값이 5 이상 되는 최초 위치\n",
    "print(\"first pos over 5 => \", hist5.argmax())"
   ]
  },
  {
   "cell_type": "code",
   "execution_count": null,
   "id": "b17a458b",
   "metadata": {},
   "outputs": [],
   "source": []
  }
 ],
 "metadata": {
  "kernelspec": {
   "display_name": "Python 3 (ipykernel)",
   "language": "python",
   "name": "python3"
  },
  "language_info": {
   "codemirror_mode": {
    "name": "ipython",
    "version": 3
   },
   "file_extension": ".py",
   "mimetype": "text/x-python",
   "name": "python",
   "nbconvert_exporter": "python",
   "pygments_lexer": "ipython3",
   "version": "3.9.4"
  }
 },
 "nbformat": 4,
 "nbformat_minor": 5
}
