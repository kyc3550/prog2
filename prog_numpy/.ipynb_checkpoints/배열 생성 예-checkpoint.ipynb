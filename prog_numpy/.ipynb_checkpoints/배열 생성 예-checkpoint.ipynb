{
 "cells": [
  {
   "cell_type": "markdown",
   "id": "a36681b4",
   "metadata": {},
   "source": [
    "### 20184645 김영찬\n",
    "### 배열 생성 예"
   ]
  },
  {
   "cell_type": "code",
   "execution_count": 3,
   "id": "4990697e",
   "metadata": {},
   "outputs": [
    {
     "name": "stdout",
     "output_type": "stream",
     "text": [
      "[ 1  2  3  4  5  6  7  8  9 10]\n",
      "4\n",
      "[4 5 6]\n",
      "(10,)\n",
      "int32\n"
     ]
    }
   ],
   "source": [
    "# NumPy 임포트\n",
    "import numpy as np\n",
    "# 1차원 배열\n",
    "arr1 = np.array([1, 2, 3, 4, 5, 6, 7, 8, 9, 10])\n",
    "print(arr1) # 배열 출력\n",
    "print(arr1[3]) # 4\n",
    "print(arr1[3:6]) # 4,5,6\n",
    "print(arr1.shape) # 배열 차원의 크기: (10,)\n",
    "print(arr1.dtype) # 배열 요소의 자료형: int32\n"
   ]
  },
  {
   "cell_type": "code",
   "execution_count": 4,
   "id": "98dbd89f",
   "metadata": {},
   "outputs": [
    {
     "name": "stdout",
     "output_type": "stream",
     "text": [
      "[[1.  2.  3. ]\n",
      " [4.4 5.5 6.6]]\n",
      "[4.4 5.5 6.6]\n",
      "6.6\n",
      "6.6\n",
      "(2, 3)\n",
      "float64\n",
      "2\n",
      "6\n"
     ]
    }
   ],
   "source": [
    "# 2차원 배열, 2 x 3 배열\n",
    "arr2 = np.array([[1.0, 2.0, 3.0], [4.4, 5.5, 6.6]])\n",
    "print(arr2) # 배열 출력\n",
    "print(arr2[1]) # [4.4, 5.5, 6.6]\n",
    "print(arr2[1, 2]) # 6.6\n",
    "print(arr2[1][2]) # 6.6\n",
    "print(arr2.shape) # (2,3)\n",
    "print(arr2.dtype) # float64\n",
    "print(arr2.ndim) # 차원(축)의 개수: 2\n",
    "print(arr2.size) # 원소의 개수: 6"
   ]
  },
  {
   "cell_type": "code",
   "execution_count": 5,
   "id": "82d7d9ee",
   "metadata": {},
   "outputs": [
    {
     "name": "stdout",
     "output_type": "stream",
     "text": [
      "[[[ 1  2  3  4]\n",
      "  [ 5  6  7  8]\n",
      "  [ 9 10 11 12]]\n",
      "\n",
      " [[11 12 13 14]\n",
      "  [15 16 17 18]\n",
      "  [19 20 21 22]]]\n",
      "[[ 1  2  3  4]\n",
      " [ 5  6  7  8]\n",
      " [ 9 10 11 12]]\n",
      "[19 20 21 22]\n",
      "19\n",
      "19\n",
      "(2, 3, 4)\n",
      "int32\n",
      "3\n",
      "24\n"
     ]
    }
   ],
   "source": [
    "# 3차원 배열, 2 x 3 x 4 배열\n",
    "arr3 = np.array([[[1, 2, 3, 4],\n",
    "                  [5, 6, 7, 8],\n",
    "                  [9, 10, 11, 12]],\n",
    "                 [[11, 12, 13, 14],\n",
    "                  [15, 16, 17, 18],\n",
    "                  [19, 20, 21, 22]]])\n",
    "print(arr3) # 배열 출력\n",
    "print(arr3[0]) # 1행 출력\n",
    "print(arr3[1, 2]) # 2행, 3열 출력\n",
    "print(arr3[1, 2, 0]) # 19\n",
    "print(arr3[1][2][0]) # 19\n",
    "print(arr3.shape) # (2,3,4)\n",
    "print(arr3.dtype) # int32\n",
    "print(arr3.ndim) # 3\n",
    "print(arr3.size ) # 24"
   ]
  },
  {
   "cell_type": "code",
   "execution_count": null,
   "id": "1843d268",
   "metadata": {},
   "outputs": [],
   "source": []
  }
 ],
 "metadata": {
  "kernelspec": {
   "display_name": "Python 3 (ipykernel)",
   "language": "python",
   "name": "python3"
  },
  "language_info": {
   "codemirror_mode": {
    "name": "ipython",
    "version": 3
   },
   "file_extension": ".py",
   "mimetype": "text/x-python",
   "name": "python",
   "nbconvert_exporter": "python",
   "pygments_lexer": "ipython3",
   "version": "3.9.4"
  }
 },
 "nbformat": 4,
 "nbformat_minor": 5
}
