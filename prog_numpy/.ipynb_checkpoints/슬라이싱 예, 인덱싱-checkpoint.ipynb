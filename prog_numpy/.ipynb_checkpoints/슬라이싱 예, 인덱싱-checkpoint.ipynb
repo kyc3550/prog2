{
 "cells": [
  {
   "cell_type": "markdown",
   "id": "e9a2047c",
   "metadata": {},
   "source": [
    "### 20184645 김영찬\n",
    "### 슬라이싱 예"
   ]
  },
  {
   "cell_type": "code",
   "execution_count": 1,
   "id": "90422e12",
   "metadata": {},
   "outputs": [],
   "source": [
    "import numpy as np\n",
    "def pprint(arr, s):\n",
    "    print(\"shape: {}, dimension: {}, dtype:{}\".format(arr.shape, arr.ndim, arr.dtype))\n",
    "    print(s)\n",
    "    print(arr)"
   ]
  },
  {
   "cell_type": "code",
   "execution_count": 2,
   "id": "683b026b",
   "metadata": {},
   "outputs": [
    {
     "name": "stdout",
     "output_type": "stream",
     "text": [
      "shape: (4, 6), dimension: 2, dtype:int32\n",
      "a1 =>\n",
      "[[ 1  2  3  4  5  6]\n",
      " [ 7  8  9 10 11 12]\n",
      " [13 14 15 16 17 18]\n",
      " [19 20 21 22 23 24]]\n"
     ]
    }
   ],
   "source": [
    "# 배열 데이터 생성 후 구조 변형\n",
    "a1 = np.arange(1, 25).reshape((4, 6))\n",
    "pprint(a1, \"a1 =>\")"
   ]
  },
  {
   "cell_type": "code",
   "execution_count": 3,
   "id": "f86cb61e",
   "metadata": {},
   "outputs": [
    {
     "name": "stdout",
     "output_type": "stream",
     "text": [
      "shape: (2, 4), dimension: 2, dtype:int32\n",
      "s1 =>\n",
      "[[ 8  9 10 11]\n",
      " [14 15 16 17]]\n"
     ]
    }
   ],
   "source": [
    "# 슬라이싱 배열 1\n",
    "s1 = a1[1:3, 1:5] # 2 x 4 배열\n",
    "pprint(s1, \"s1 =>\")"
   ]
  },
  {
   "cell_type": "code",
   "execution_count": 4,
   "id": "145524e8",
   "metadata": {},
   "outputs": [
    {
     "name": "stdout",
     "output_type": "stream",
     "text": [
      "shape: (2, 4), dimension: 2, dtype:int32\n",
      "s1 =>\n",
      "[[ 8  9 10 11]\n",
      " [14 15 16 17]]\n"
     ]
    }
   ],
   "source": [
    "# 슬라이싱 배열 2\n",
    "s1 = a1[1:-1, 1:-1] # 2 x 4 배열\n",
    "pprint(s1, \"s1 =>\")"
   ]
  },
  {
   "cell_type": "code",
   "execution_count": 5,
   "id": "9693aea7",
   "metadata": {},
   "outputs": [
    {
     "name": "stdout",
     "output_type": "stream",
     "text": [
      "shape: (2, 2), dimension: 2, dtype:int32\n",
      "ss1 =>\n",
      "[[ 9 10]\n",
      " [15 16]]\n"
     ]
    }
   ],
   "source": [
    "# 슬라이싱 배열의 슬라이싱\n",
    "ss1 = s1[:, 1:3] # 2 x 2 배열\n",
    "pprint(ss1, \"ss1 =>\")\n",
    "\n"
   ]
  },
  {
   "cell_type": "code",
   "execution_count": 6,
   "id": "c28bcc4b",
   "metadata": {},
   "outputs": [
    {
     "name": "stdout",
     "output_type": "stream",
     "text": [
      "shape: (4, 6), dimension: 2, dtype:int32\n",
      "b1 =>\n",
      "[[ 1  2  3  4  5  6]\n",
      " [ 7  8  9 10 11 12]\n",
      " [13 14 15 16 17 18]\n",
      " [19 20 21 22 23 24]]\n"
     ]
    }
   ],
   "source": [
    "# 배열 복사\n",
    "b1 = np.copy(a1)\n",
    "pprint(a1, \"b1 =>\")"
   ]
  },
  {
   "cell_type": "code",
   "execution_count": 7,
   "id": "5e7acbad",
   "metadata": {},
   "outputs": [
    {
     "name": "stdout",
     "output_type": "stream",
     "text": [
      "shape: (2, 4), dimension: 2, dtype:int32\n",
      "s1 => \n",
      "[[    8 99999 99999    11]\n",
      " [   14 99999 99999    17]]\n",
      "shape: (4, 6), dimension: 2, dtype:int32\n",
      "a1 =>\n",
      "[[    1     2     3     4     5     6]\n",
      " [    7     8 99999 99999    11    12]\n",
      " [   13    14 99999 99999    17    18]\n",
      " [   19    20    21    22    23    24]]\n",
      "shape: (4, 6), dimension: 2, dtype:int32\n",
      "b1 =>\n",
      "[[ 1  2  3  4  5  6]\n",
      " [ 7  8  9 10 11 12]\n",
      " [13 14 15 16 17 18]\n",
      " [19 20 21 22 23 24]]\n"
     ]
    }
   ],
   "source": [
    "# 슬라이싱을 적용하여 참조한 4개 요소 업데이트 및 슬라이싱 배열 조회\n",
    "s1[:, 1:3]=99999\n",
    "pprint(s1, \"s1 => \")\n",
    "pprint(a1, \"a1 =>\")\n",
    "pprint(b1, \"b1 =>\")"
   ]
  },
  {
   "cell_type": "code",
   "execution_count": 9,
   "id": "70b7f786",
   "metadata": {},
   "outputs": [
    {
     "name": "stdout",
     "output_type": "stream",
     "text": [
      "shape: (3, 4), dimension: 2, dtype:int32\n",
      "b1 => \n",
      "[[ 0  1  2  3]\n",
      " [ 4  5  6  7]\n",
      " [ 8  9 10 11]]\n",
      "shape: (3, 4), dimension: 2, dtype:bool\n",
      "cond =>\n",
      "[[ True False  True False]\n",
      " [ True False  True False]\n",
      " [ True False  True False]]\n",
      "shape: (6,), dimension: 1, dtype:int32\n",
      "b2 =>\n",
      "[ 0  2  4  6  8 10]\n"
     ]
    }
   ],
   "source": [
    "# 불린 인덱싱\n",
    "b1 = np.arange(12).reshape(3,4)\n",
    "pprint(b1, \"b1 => \")\n",
    "\n",
    "cond = b1 % 2 == 0 \n",
    "pprint(cond, \"cond =>\")\n",
    "\n",
    "b2 = b1[cond]    # b2 = b1[b1%2==0]\n",
    "pprint(b2, \"b2 =>\")"
   ]
  },
  {
   "cell_type": "code",
   "execution_count": 12,
   "id": "ceeaad3a",
   "metadata": {},
   "outputs": [
    {
     "name": "stdout",
     "output_type": "stream",
     "text": [
      "shape: (2, 3), dimension: 2, dtype:int32\n",
      "b3=>\n",
      "[[0 1 2]\n",
      " [3 4 5]]\n",
      "shape: (2, 3), dimension: 2, dtype:bool\n",
      "cond =>\n",
      "[[ True False  True]\n",
      " [False  True False]]\n",
      "shape: (2, 3), dimension: 2, dtype:int32\n",
      "b4 =>\n",
      "[[22 33 22]\n",
      " [33 22 33]]\n",
      "shape: (2, 3), dimension: 2, dtype:int32\n",
      "b5 =>\n",
      "[[22 33 22]\n",
      " [33 22 33]]\n"
     ]
    }
   ],
   "source": [
    "b3 = np.arange(6).reshape(2,3)\n",
    "pprint(b3, \"b3=>\")\n",
    "\n",
    "cond = b3 % 2 == 0 \n",
    "pprint(cond, \"cond =>\")\n",
    "\n",
    "b4 = np.where(cond,22,33)\n",
    "pprint(b4, \"b4 =>\")\n",
    "b5 = np.where(b3%2 == 0, 22, 33)\n",
    "pprint(b5, \"b5 =>\")"
   ]
  },
  {
   "cell_type": "code",
   "execution_count": 14,
   "id": "dfa32cf8",
   "metadata": {},
   "outputs": [
    {
     "name": "stdout",
     "output_type": "stream",
     "text": [
      "shape: (4, 6), dimension: 2, dtype:int32\n",
      "f1 =>\n",
      "[[ 1  2  3  4  5  6]\n",
      " [ 7  8  9 10 11 12]\n",
      " [13 14 15 16 17 18]\n",
      " [19 20 21 22 23 24]]\n"
     ]
    }
   ],
   "source": [
    "# 팬시 인덱싱\n",
    "f1 = np.arange(1,25).reshape((4,6))\n",
    "pprint(f1, \"f1 =>\")"
   ]
  },
  {
   "cell_type": "code",
   "execution_count": 16,
   "id": "f6698fd2",
   "metadata": {},
   "outputs": [
    {
     "data": {
      "text/plain": [
       "[1, 8, 15, 22]"
      ]
     },
     "execution_count": 16,
     "metadata": {},
     "output_type": "execute_result"
    }
   ],
   "source": [
    "[f1[0,0], f1[1,1], f1[2,2], f1[3,3]]"
   ]
  },
  {
   "cell_type": "code",
   "execution_count": 17,
   "id": "d817e39f",
   "metadata": {},
   "outputs": [
    {
     "data": {
      "text/plain": [
       "array([ 1,  8, 15, 22])"
      ]
     },
     "execution_count": 17,
     "metadata": {},
     "output_type": "execute_result"
    }
   ],
   "source": [
    "f1[[0,1,2,3], [0,1,2,3]]"
   ]
  },
  {
   "cell_type": "code",
   "execution_count": 18,
   "id": "3eff0a00",
   "metadata": {},
   "outputs": [
    {
     "data": {
      "text/plain": [
       "array([[ 2,  3],\n",
       "       [ 8,  9],\n",
       "       [14, 15],\n",
       "       [20, 21]])"
      ]
     },
     "execution_count": 18,
     "metadata": {},
     "output_type": "execute_result"
    }
   ],
   "source": [
    "#1,2 열만 참조\n",
    "f1[ : , [1,2]]"
   ]
  },
  {
   "cell_type": "code",
   "execution_count": null,
   "id": "49cfc769",
   "metadata": {},
   "outputs": [],
   "source": []
  }
 ],
 "metadata": {
  "kernelspec": {
   "display_name": "Python 3 (ipykernel)",
   "language": "python",
   "name": "python3"
  },
  "language_info": {
   "codemirror_mode": {
    "name": "ipython",
    "version": 3
   },
   "file_extension": ".py",
   "mimetype": "text/x-python",
   "name": "python",
   "nbconvert_exporter": "python",
   "pygments_lexer": "ipython3",
   "version": "3.9.4"
  }
 },
 "nbformat": 4,
 "nbformat_minor": 5
}
