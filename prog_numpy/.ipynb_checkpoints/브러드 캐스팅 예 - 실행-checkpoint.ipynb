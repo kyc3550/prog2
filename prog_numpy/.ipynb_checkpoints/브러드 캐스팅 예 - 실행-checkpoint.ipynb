{
 "cells": [
  {
   "cell_type": "markdown",
   "id": "4411eaa5",
   "metadata": {},
   "source": [
    "### 20184645 김영찬\n",
    "### 브로드 캐스팅 예 - 실행"
   ]
  },
  {
   "cell_type": "code",
   "execution_count": 4,
   "id": "e956526b",
   "metadata": {},
   "outputs": [
    {
     "name": "stdout",
     "output_type": "stream",
     "text": [
      "shape: (4, 3), dimension: 2, dtype:int32\n",
      "a =>\n",
      "[[ 0  0  0]\n",
      " [10 10 10]\n",
      " [20 20 20]\n",
      " [30 30 30]]\n",
      "shape: (4, 3), dimension: 2, dtype:int32\n",
      "b =>\n",
      "[[0 1 2]\n",
      " [0 1 2]\n",
      " [0 1 2]\n",
      " [0 1 2]]\n"
     ]
    }
   ],
   "source": [
    "import numpy as np\n",
    "def pprint(arr, s):\n",
    "    print(\"shape: {}, dimension: {}, dtype:{}\".format(arr.shape, arr.ndim, arr.dtype))\n",
    "    print(s)\n",
    "    print(arr)\n",
    "    \n",
    "a = np.array([[0, 0, 0], [10, 10, 10], [20, 20, 20], [30, 30, 30]]) # 오퍼랜드 a, 4 x 3\n",
    "pprint(a, \"a =>\")\n",
    "\n",
    "b = np.array([[0, 1, 2], [0, 1, 2], [0, 1, 2], [0, 1, 2]]) # 오퍼랜드 b, 4 x 3\n",
    "pprint(b, \"b =>\")"
   ]
  },
  {
   "cell_type": "code",
   "execution_count": 5,
   "id": "31b15b64",
   "metadata": {},
   "outputs": [
    {
     "name": "stdout",
     "output_type": "stream",
     "text": [
      "shape: (4, 3), dimension: 2, dtype:int32\n",
      "c =>\n",
      "[[ 0  1  2]\n",
      " [10 11 12]\n",
      " [20 21 22]\n",
      " [30 31 32]]\n"
     ]
    }
   ],
   "source": [
    "# 같은 구조 배열 덧셈\n",
    "c = a + b\n",
    "pprint(c, \"c =>\")"
   ]
  },
  {
   "cell_type": "code",
   "execution_count": 6,
   "id": "c20cd4be",
   "metadata": {},
   "outputs": [
    {
     "name": "stdout",
     "output_type": "stream",
     "text": [
      "shape: (1, 3), dimension: 2, dtype:int32\n",
      "b1 =>\n",
      "[[0 1 2]]\n",
      "shape: (4, 3), dimension: 2, dtype:int32\n",
      "c1 =>\n",
      "[[ 0  1  2]\n",
      " [10 11 12]\n",
      " [20 21 22]\n",
      " [30 31 32]]\n"
     ]
    }
   ],
   "source": [
    "# b1 브로드캐스팅\n",
    "b1 = np.array([[0, 1, 2]])\n",
    "pprint(b1, \"b1 =>\")\n",
    "\n",
    "c1 = a + b1\n",
    "pprint(c1, \"c1 =>\")"
   ]
  },
  {
   "cell_type": "code",
   "execution_count": 7,
   "id": "6f0b8253",
   "metadata": {},
   "outputs": [
    {
     "name": "stdout",
     "output_type": "stream",
     "text": [
      "shape: (4, 1), dimension: 2, dtype:int32\n",
      " a1 =>\n",
      "[[ 0]\n",
      " [10]\n",
      " [20]\n",
      " [30]]\n",
      "shape: (4, 3), dimension: 2, dtype:int32\n",
      "c2 =>\n",
      "[[ 0  1  2]\n",
      " [10 11 12]\n",
      " [20 21 22]\n",
      " [30 31 32]]\n"
     ]
    }
   ],
   "source": [
    "# a1 브로드캐스팅\n",
    "a1 = np.array([[0], [10], [20], [30]])\n",
    "pprint(a1, \" a1 =>\")\n",
    "\n",
    "c2 = a1 + b;\n",
    "pprint(c1, \"c2 =>\")"
   ]
  },
  {
   "cell_type": "code",
   "execution_count": null,
   "id": "6663ef64",
   "metadata": {},
   "outputs": [],
   "source": []
  }
 ],
 "metadata": {
  "kernelspec": {
   "display_name": "Python 3 (ipykernel)",
   "language": "python",
   "name": "python3"
  },
  "language_info": {
   "codemirror_mode": {
    "name": "ipython",
    "version": 3
   },
   "file_extension": ".py",
   "mimetype": "text/x-python",
   "name": "python",
   "nbconvert_exporter": "python",
   "pygments_lexer": "ipython3",
   "version": "3.9.4"
  }
 },
 "nbformat": 4,
 "nbformat_minor": 5
}
