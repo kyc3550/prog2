{
 "cells": [
  {
   "cell_type": "markdown",
   "id": "a993ee1b",
   "metadata": {},
   "source": [
    "### 20184645\n",
    "### 컴퓨터 공학과 김영찬"
   ]
  },
  {
   "cell_type": "code",
   "execution_count": null,
   "id": "9424675c",
   "metadata": {},
   "outputs": [],
   "source": [
    "import sqlite3\n",
    "from flask import Flask, render_template, request\n",
    "app = Flask(__name__)\n",
    "# 순천향 서핑 대회 로그인 폼 렌더링\n",
    "\n",
    "@app.route('/SoonSurf')\n",
    "def surf():\n",
    "    return render_template('loginForm.html')\n",
    "\n",
    "# 로그인 처리\n",
    "@app.route('/login', methods=['POST'])\n",
    "def login():\n",
    "# 폼 입력값 가져오기\n",
    "    idn = request.form['id']\n",
    "    pwd = request.form['passwd']\n",
    "    # 데이터베이스 연결\n",
    "    conn = sqlite3.connect('member.db')\n",
    "    conn.row_factory = sqlite3.Row\n",
    "    cursor = conn.cursor()\n",
    "    # 계정 id 레코드 읽기\n",
    "    cursor.execute('select * from meminfo where id = ?', (idn,))\n",
    "    row = cursor.fetchone()\n",
    "    conn.close()\n",
    "    # 계정/비번 조사\n",
    "    if row != None:\n",
    "        if idn == row['id'] and pwd == row['passwd']:\n",
    "            return render_template('surfForm.html')\n",
    "\n",
    "    return(\"<h2>로그인 에러 !!</h2>\")"
   ]
  },
  {
   "cell_type": "code",
   "execution_count": null,
   "id": "641d346a",
   "metadata": {},
   "outputs": [],
   "source": [
    "# 회원가입 폼 렌더링\n",
    "@app.route('/member', methods=['POST'])\n",
    "def member():\n",
    "    return render_template('memForm.html')\n",
    "# 회원가입 처리\n",
    "@app.route('/register', methods=['POST'])\n",
    "def register():\n",
    "    import datetime\n",
    "    # 폼 입력값 가져오기\n",
    "    idn = request.form['id']\n",
    "    pwd = request.form['passwd']\n",
    "    na = request.form['name']\n",
    "    # 회원 등록 시간\n",
    "    tm = datetime.datetime.now()\n",
    "    # 데이터베이스 연결\n",
    "    conn = sqlite3.connect('member.db')\n",
    "    cursor = conn.cursor()\n",
    "    # 데이터베이스 등록(삽입)\n",
    "    cursor.execute('''\n",
    "        insert into meminfo (id, passwd, name, time) values(?, ?, ?, ?)''',\n",
    "                   (idn, pwd, na, tm))\n",
    "    conn.commit()\n",
    "    conn.close()\n",
    "    mstr = \"id = %s, passwd = %s, name = %s, time = %s\" % (idn, pwd, na, tm)\n",
    "    outstr = \"<h3>회원 가입이 되었습니다.</h3><hr><p>\" + mstr\n",
    "    return outstr"
   ]
  },
  {
   "cell_type": "code",
   "execution_count": null,
   "id": "8ef521c5",
   "metadata": {},
   "outputs": [],
   "source": [
    "# 선수 조회 처리\n",
    "@app.route('/show', methods=['POST'])\n",
    "def show():\n",
    "    # 폼 입력값 가져오기\n",
    "    na = request.form['name']\n",
    "    # 데이터베이스 연결 및 조회\n",
    "    conn = sqlite3.connect('SoonSurf.db')\n",
    "    conn.row_factory = sqlite3.Row\n",
    "    cursor = conn.cursor()\n",
    "    cursor.execute(''' select * from surfinfo where name = ? ''', (na,))\n",
    "    row = cursor.fetchone()\n",
    "    conn.close()\n",
    "    outstr = \"<h2>선수 조회</h2><br><hr>\"\n",
    "    if row != None:\n",
    "        outstr += \"name: %s <br>\" % row['name']\n",
    "        outstr += \"score: %s <br>\" % row['score']\n",
    "        outstr += \"gender: %s <br>\" % row['gender']\n",
    "        outstr += \"country: %s <br>\" % row['country']\n",
    "    else: \n",
    "        outstr += \"선수 데이터가 없습니다!!\"\n",
    "    return outstr"
   ]
  },
  {
   "cell_type": "code",
   "execution_count": null,
   "id": "eec7952b",
   "metadata": {},
   "outputs": [],
   "source": [
    "# 선수 입력 처리\n",
    "@app.route('/insert', methods=['POST'])\n",
    "def insert():\n",
    "    # 폼 입력값 가져오기\n",
    "    na = request.form['name']\n",
    "    sc = request.form['score']\n",
    "    gn = request.form['gender']\n",
    "    ct = request.form['country']\n",
    "    # 데이터베이스 삽입\n",
    "    conn = sqlite3.connect('SoonSurf.db')\n",
    "    cursor = conn.cursor()\n",
    "    cursor.execute('''\n",
    "    insert into surfinfo (name, score, gender, country) values(?, ?, ?, ?)''',\n",
    "                   (na, float(sc), gn, ct))\n",
    "    conn.commit()\n",
    "    conn.close()\n",
    "    outstr = \"<h2>선수 입력</h2><br><hr>\"\n",
    "    outstr += \"name: %s <br>\" % na\n",
    "    outstr += \"score: %s <br>\" % sc\n",
    "    outstr += \"gender: %s <br>\" % gn\n",
    "    outstr += \"country: %s <br>\" % ct\n",
    "    return outstr\n",
    "\n",
    "if __name__ == '__main__':\n",
    "    app.run()"
   ]
  },
  {
   "cell_type": "code",
   "execution_count": null,
   "id": "e3123453",
   "metadata": {},
   "outputs": [],
   "source": []
  }
 ],
 "metadata": {
  "kernelspec": {
   "display_name": "Python 3 (ipykernel)",
   "language": "python",
   "name": "python3"
  },
  "language_info": {
   "codemirror_mode": {
    "name": "ipython",
    "version": 3
   },
   "file_extension": ".py",
   "mimetype": "text/x-python",
   "name": "python",
   "nbconvert_exporter": "python",
   "pygments_lexer": "ipython3",
   "version": "3.9.4"
  }
 },
 "nbformat": 4,
 "nbformat_minor": 5
}
