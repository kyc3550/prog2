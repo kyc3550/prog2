{
 "cells": [
  {
   "cell_type": "markdown",
   "id": "043cd0d3",
   "metadata": {},
   "source": [
    "##기상청 웹 크롤링 코드"
   ]
  },
  {
   "cell_type": "code",
   "execution_count": 2,
   "id": "469e893f",
   "metadata": {},
   "outputs": [],
   "source": [
    "#20184645 김영찬\n",
    "import urllib.request\n",
    "from bs4 import BeautifulSoup\n",
    "\n",
    "page = urllib.request.urlopen(\"http://www.weather.go.kr/weather/observation/currentweather.jsp\").read()\n",
    "soup = BeautifulSoup(page, 'html.parser')\n",
    "\n",
    "table = soup.find('table',{'class':'table_develop3'})\n",
    "tm = soup.find('input',{'name':'tm'}).get('value')\n",
    "data = []"
   ]
  },
  {
   "cell_type": "code",
   "execution_count": 3,
   "id": "bcd093c2",
   "metadata": {},
   "outputs": [
    {
     "name": "stdout",
     "output_type": "stream",
     "text": [
      "['2021', '09', '21', '19']\n"
     ]
    }
   ],
   "source": [
    "for tr in table.find_all('tr'):\n",
    "    tds = list(tr.find_all('td'))\n",
    "    for td in tds:\n",
    "        if td.find('a'):\n",
    "            point = td.find('a').text\n",
    "            temperature = tds[5].text\n",
    "            humidity = tds[9].text\n",
    "            data.append([point,temperature,humidity])\n",
    "            \n",
    "a,time_min = tm.split(':')           \n",
    "now_time= a.split('.')\n",
    "print(now_time)\n",
    "with open('weather.csv','w',encoding='utf8') as file:\n",
    "    file.write('20184645 김영찬\\n')\n",
    "    file.write('{0}년 {1}월 {2}일 {3}시 {4}분 현재 날씨\\n'.format(now_time[0],now_time[1],now_time[2],now_time[3],time_min))\n",
    "    file.write('도시,온도,습도\\n')\n",
    "    for i in data:\n",
    "        file.write('{0},{1},{2}\\n'.format(i[0],i[1],i[2]))\n",
    "\n"
   ]
  },
  {
   "cell_type": "code",
   "execution_count": null,
   "id": "95923888",
   "metadata": {},
   "outputs": [],
   "source": []
  }
 ],
 "metadata": {
  "kernelspec": {
   "display_name": "Python 3",
   "language": "python",
   "name": "python3"
  },
  "language_info": {
   "codemirror_mode": {
    "name": "ipython",
    "version": 3
   },
   "file_extension": ".py",
   "mimetype": "text/x-python",
   "name": "python",
   "nbconvert_exporter": "python",
   "pygments_lexer": "ipython3",
   "version": "3.8.8"
  }
 },
 "nbformat": 4,
 "nbformat_minor": 5
}
