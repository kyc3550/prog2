{
 "cells": [
  {
   "cell_type": "markdown",
   "id": "2178c660",
   "metadata": {},
   "source": [
    "##주피트 테스트"
   ]
  },
  {
   "cell_type": "code",
   "execution_count": 1,
   "id": "1d7708b9",
   "metadata": {},
   "outputs": [],
   "source": [
    "class Dog():\n",
    "    age=0\n",
    "    name=\"\"\n",
    "    weight=0\n",
    "    \n",
    "    def bark(self):\n",
    "        print(\"%s -> 멍멍\" % self.name)"
   ]
  },
  {
   "cell_type": "code",
   "execution_count": 2,
   "id": "e3478433",
   "metadata": {},
   "outputs": [
    {
     "name": "stdout",
     "output_type": "stream",
     "text": [
      "Merry -> 멍멍\n"
     ]
    }
   ],
   "source": [
    "myDog = Dog()\n",
    "myDog.name = \"Merry\"\n",
    "myDog.weight = 20\n",
    "myDog.age = 3\n",
    "myDog.bark()"
   ]
  },
  {
   "cell_type": "code",
   "execution_count": 3,
   "id": "861876ba",
   "metadata": {},
   "outputs": [
    {
     "name": "stdout",
     "output_type": "stream",
     "text": [
      "Happy -> 멍멍\n"
     ]
    }
   ],
   "source": [
    "yourDog = Dog()\n",
    "yourDog.name = \"Happy\"\n",
    "yourDog.weight = 30\n",
    "yourDog.age = 5\n",
    "yourDog.bark()"
   ]
  },
  {
   "cell_type": "code",
   "execution_count": null,
   "id": "c0df0d71",
   "metadata": {},
   "outputs": [],
   "source": []
  }
 ],
 "metadata": {
  "kernelspec": {
   "display_name": "Python 3",
   "language": "python",
   "name": "python3"
  },
  "language_info": {
   "codemirror_mode": {
    "name": "ipython",
    "version": 3
   },
   "file_extension": ".py",
   "mimetype": "text/x-python",
   "name": "python",
   "nbconvert_exporter": "python",
   "pygments_lexer": "ipython3",
   "version": "3.8.8"
  }
 },
 "nbformat": 4,
 "nbformat_minor": 5
}
