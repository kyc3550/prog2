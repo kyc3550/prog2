{
 "cells": [
  {
   "cell_type": "markdown",
   "id": "6c1be412",
   "metadata": {},
   "source": [
    "### 20184645 김영찬\n",
    "### 클라이언트 프로그램"
   ]
  },
  {
   "cell_type": "code",
   "execution_count": 1,
   "id": "d31da8c7",
   "metadata": {},
   "outputs": [
    {
     "name": "stdout",
     "output_type": "stream",
     "text": [
      "클라이언트 네트워크 연결 초기화.....\n"
     ]
    },
    {
     "ename": "ConnectionRefusedError",
     "evalue": "[WinError 10061] 대상 컴퓨터에서 연결을 거부했으므로 연결하지 못했습니다",
     "output_type": "error",
     "traceback": [
      "\u001b[1;31m---------------------------------------------------------------------------\u001b[0m",
      "\u001b[1;31mConnectionRefusedError\u001b[0m                    Traceback (most recent call last)",
      "\u001b[1;32m~\\AppData\\Local\\Temp/ipykernel_15400/239623232.py\u001b[0m in \u001b[0;36m<module>\u001b[1;34m\u001b[0m\n\u001b[0;32m     19\u001b[0m \u001b[1;33m\u001b[0m\u001b[0m\n\u001b[0;32m     20\u001b[0m \u001b[1;31m#서버에 연결요청\u001b[0m\u001b[1;33m\u001b[0m\u001b[1;33m\u001b[0m\u001b[1;33m\u001b[0m\u001b[0m\n\u001b[1;32m---> 21\u001b[1;33m \u001b[0mclientSocket\u001b[0m\u001b[1;33m.\u001b[0m\u001b[0mconnect\u001b[0m\u001b[1;33m(\u001b[0m\u001b[1;33m(\u001b[0m\u001b[0mserverName\u001b[0m\u001b[1;33m,\u001b[0m \u001b[0mserverPort\u001b[0m\u001b[1;33m)\u001b[0m\u001b[1;33m)\u001b[0m\u001b[1;33m\u001b[0m\u001b[1;33m\u001b[0m\u001b[0m\n\u001b[0m\u001b[0;32m     22\u001b[0m \u001b[0mprint\u001b[0m\u001b[1;33m(\u001b[0m\u001b[1;34m\"서버에 연결됨...\\n\"\u001b[0m\u001b[1;33m)\u001b[0m\u001b[1;33m\u001b[0m\u001b[1;33m\u001b[0m\u001b[0m\n\u001b[0;32m     23\u001b[0m \u001b[1;33m\u001b[0m\u001b[0m\n",
      "\u001b[1;31mConnectionRefusedError\u001b[0m: [WinError 10061] 대상 컴퓨터에서 연결을 거부했으므로 연결하지 못했습니다"
     ]
    }
   ],
   "source": [
    "from socket import *\n",
    "from threading import *\n",
    "\n",
    "def clientRecv():\n",
    "    while True:\n",
    "        # 데이터 수신하고, 디코드하여 출력\n",
    "        severMsg = clientSocket.recv(1024)\n",
    "        print(\"[서버]\"+severMsg.decode(\"utf8\")+\"\\n\")\n",
    "    clientSocket.close()\n",
    "    \n",
    "\n",
    "# 클라이언트 네트워크 연결 초기화\n",
    "print(\"클라이언트 네트워크 연결 초기화.....\")\n",
    "# 호스트 주소 지정\n",
    "serverName='127.0.0.1'\n",
    "serverPort=9000\n",
    "# 클라이언트 소켓 생성\n",
    "clientSocket = socket(AF_INET,SOCK_STREAM)\n",
    "\n",
    "#서버에 연결요청\n",
    "clientSocket.connect((serverName, serverPort))\n",
    "print(\"서버에 연결됨...\\n\")\n",
    "\n",
    "# 스레드 생성 및 실행\n",
    "Thread(target=clientRecv).start()\n",
    "\n",
    "#데이터 입력 및 송신 무한 루프\n",
    "while True:\n",
    "    #송신 데이터 입력\n",
    "    msg = input()\n",
    "    # 문자열 인코드하여 데이터 송신\n",
    "    clientSocket.send(msg.encode(\"utf8\"))\n",
    "    \n",
    "clientSocket.close()"
   ]
  },
  {
   "cell_type": "code",
   "execution_count": null,
   "id": "7efefc88",
   "metadata": {},
   "outputs": [],
   "source": []
  },
  {
   "cell_type": "code",
   "execution_count": null,
   "id": "d04f410e",
   "metadata": {},
   "outputs": [],
   "source": []
  }
 ],
 "metadata": {
  "kernelspec": {
   "display_name": "Python 3 (ipykernel)",
   "language": "python",
   "name": "python3"
  },
  "language_info": {
   "codemirror_mode": {
    "name": "ipython",
    "version": 3
   },
   "file_extension": ".py",
   "mimetype": "text/x-python",
   "name": "python",
   "nbconvert_exporter": "python",
   "pygments_lexer": "ipython3",
   "version": "3.9.4"
  }
 },
 "nbformat": 4,
 "nbformat_minor": 5
}
