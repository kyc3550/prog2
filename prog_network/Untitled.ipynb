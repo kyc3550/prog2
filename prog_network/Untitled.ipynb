{
 "cells": [
  {
   "cell_type": "markdown",
   "id": "ccb9fe08",
   "metadata": {},
   "source": [
    "### 20184645 김영찬\n",
    "### 임의의프로그램 - gui"
   ]
  },
  {
   "cell_type": "code",
   "execution_count": 1,
   "id": "6bf08731",
   "metadata": {},
   "outputs": [
    {
     "data": {
      "text/plain": [
       "''"
      ]
     },
     "execution_count": 1,
     "metadata": {},
     "output_type": "execute_result"
    }
   ],
   "source": [
    "from socket import *\n",
    "from threading import *\n",
    "from tkinter import *\n",
    "\n",
    "app = Tk()\n",
    "app.title(\"클라이언트\")"
   ]
  },
  {
   "cell_type": "code",
   "execution_count": null,
   "id": "7e23c643",
   "metadata": {},
   "outputs": [],
   "source": []
  }
 ],
 "metadata": {
  "kernelspec": {
   "display_name": "Python 3 (ipykernel)",
   "language": "python",
   "name": "python3"
  },
  "language_info": {
   "codemirror_mode": {
    "name": "ipython",
    "version": 3
   },
   "file_extension": ".py",
   "mimetype": "text/x-python",
   "name": "python",
   "nbconvert_exporter": "python",
   "pygments_lexer": "ipython3",
   "version": "3.9.4"
  }
 },
 "nbformat": 4,
 "nbformat_minor": 5
}
