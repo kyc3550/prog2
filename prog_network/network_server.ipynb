{
 "cells": [
  {
   "cell_type": "markdown",
   "id": "15046816",
   "metadata": {},
   "source": [
    "### 20184645 김영찬\n",
    "### 채팅 서버 프로그램"
   ]
  },
  {
   "cell_type": "code",
   "execution_count": null,
   "id": "38f6b2f4",
   "metadata": {},
   "outputs": [],
   "source": []
  },
  {
   "cell_type": "code",
   "execution_count": null,
   "id": "caff64ce",
   "metadata": {},
   "outputs": [
    {
     "name": "stdout",
     "output_type": "stream",
     "text": [
      "서버 네트워크 연결 초기화.....\n",
      "클라이언트 연결됨... ('127.0.0.1', 63504) \n",
      "\n",
      "ㅇ\n",
      "[클라이언트]ㅇㅇㅁㄴㅇㅁㅇㅁㄴㅇ\n",
      "\n",
      "[클라이언트]ㅁㄴㅇㅁㄴㅇㅁㄴㅇ\n",
      "\n",
      "[클라이언트]ㅁㄴㅇ\n",
      "\n",
      "[클라이언트]ㅁㄴㅇ\n",
      "\n",
      "[클라이언트]ㅁㄴㅇ\n",
      "\n",
      "ㅁㄴㅇ\n",
      "ㅁㄴㅇ\n",
      "ㅁㄴㅇ\n",
      "ㅁㄴㅇ\n",
      "[클라이언트]ㅁㄴㅇ\n",
      "\n",
      "ㅁㄴㅇ\n"
     ]
    }
   ],
   "source": [
    "from socket import *\n",
    "from threading import *\n",
    "\n",
    "# 메세지 수신 함수(스레드)\n",
    "def serverRecv():\n",
    "    while True:\n",
    "        # 데이터 수신하고, 디코드하여 출력\n",
    "        clientMsg = connectionSocket.recv(1024)\n",
    "        print(\"[클라이언트]\"+clientMsg.decode(\"utf8\")+\"\\n\")\n",
    "\n",
    "# 서버 네트워크 연결 초기화\n",
    "print(\"서버 네트워크 연결 초기화.....\")\n",
    "# 호스트 주소 지정\n",
    "serverPort=9000\n",
    "# 서버 소켓 생성\n",
    "serverSocket = socket(AF_INET,SOCK_STREAM)\n",
    "# 주소와 소켓 결합\n",
    "serverSocket.bind(('',serverPort))\n",
    "# 연결 요청 청취\n",
    "serverSocket.listen(1)\n",
    "# 연결 요청 수락, 연결 소켓 리턴\n",
    "connectionSocket, addr=serverSocket.accept()\n",
    "print(\"클라이언트 연결됨...\",addr,\"\\n\")\n",
    "# 스레드 생성 및 실행\n",
    "Thread(target=serverRecv).start()\n",
    "\n",
    "# 데이터 입력 및 송신 무한 루프\n",
    "while True:\n",
    "    # 송신 데이터 입력\n",
    "    msg=input()\n",
    "    # 문자열 인코드하여 데이터 송신\n",
    "    connectionSocket.send(msg.encode(\"utf8\"))\n",
    "    \n",
    "connectionSocket.close()"
   ]
  },
  {
   "cell_type": "code",
   "execution_count": null,
   "id": "ea1d3cd6",
   "metadata": {},
   "outputs": [],
   "source": []
  },
  {
   "cell_type": "code",
   "execution_count": null,
   "id": "564215f0",
   "metadata": {},
   "outputs": [],
   "source": []
  }
 ],
 "metadata": {
  "kernelspec": {
   "display_name": "Python 3 (ipykernel)",
   "language": "python",
   "name": "python3"
  },
  "language_info": {
   "codemirror_mode": {
    "name": "ipython",
    "version": 3
   },
   "file_extension": ".py",
   "mimetype": "text/x-python",
   "name": "python",
   "nbconvert_exporter": "python",
   "pygments_lexer": "ipython3",
   "version": "3.9.4"
  }
 },
 "nbformat": 4,
 "nbformat_minor": 5
}
