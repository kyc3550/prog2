{
 "cells": [
  {
   "cell_type": "markdown",
   "id": "59181cdb",
   "metadata": {},
   "source": [
    "### 20184645 김영찬\n",
    "### porg_DB"
   ]
  },
  {
   "cell_type": "code",
   "execution_count": 1,
   "id": "1a42a262",
   "metadata": {},
   "outputs": [],
   "source": [
    "import sqlite3\n",
    "import datetime"
   ]
  },
  {
   "cell_type": "code",
   "execution_count": 2,
   "id": "d6b64ad7",
   "metadata": {},
   "outputs": [
    {
     "name": "stdout",
     "output_type": "stream",
     "text": [
      "데이터베이스 연결 성공\n"
     ]
    }
   ],
   "source": [
    "# 데이터베이스 연결\n",
    "conn = sqlite3.connect('member.db')\n",
    "print(\"데이터베이스 연결 성공\")"
   ]
  },
  {
   "cell_type": "code",
   "execution_count": 3,
   "id": "466169a0",
   "metadata": {},
   "outputs": [
    {
     "ename": "OperationalError",
     "evalue": "table meminfo already exists",
     "output_type": "error",
     "traceback": [
      "\u001b[1;31m---------------------------------------------------------------------------\u001b[0m",
      "\u001b[1;31mOperationalError\u001b[0m                          Traceback (most recent call last)",
      "\u001b[1;32m~\\AppData\\Local\\Temp/ipykernel_10576/178804569.py\u001b[0m in \u001b[0;36m<module>\u001b[1;34m\u001b[0m\n\u001b[0;32m      1\u001b[0m \u001b[0mcursor\u001b[0m \u001b[1;33m=\u001b[0m \u001b[0mconn\u001b[0m\u001b[1;33m.\u001b[0m\u001b[0mcursor\u001b[0m\u001b[1;33m(\u001b[0m\u001b[1;33m)\u001b[0m\u001b[1;33m\u001b[0m\u001b[1;33m\u001b[0m\u001b[0m\n\u001b[0;32m      2\u001b[0m \u001b[1;33m\u001b[0m\u001b[0m\n\u001b[1;32m----> 3\u001b[1;33m cursor.execute('''\n\u001b[0m\u001b[0;32m      4\u001b[0m               \u001b[0mcreate\u001b[0m \u001b[0mtable\u001b[0m \u001b[0mmeminfo\u001b[0m\u001b[1;33m(\u001b[0m\u001b[0mid\u001b[0m \u001b[0mtext\u001b[0m \u001b[0mprimary\u001b[0m \u001b[0mkey\u001b[0m\u001b[1;33m,\u001b[0m \u001b[0mpasswd\u001b[0m \u001b[0mtext\u001b[0m\u001b[1;33m,\u001b[0m \u001b[0mname\u001b[0m \u001b[0mtext\u001b[0m\u001b[1;33m,\u001b[0m \u001b[0mtime\u001b[0m \u001b[0mtext\u001b[0m\u001b[1;33m)\u001b[0m\u001b[1;33m;\u001b[0m\u001b[1;33m\u001b[0m\u001b[1;33m\u001b[0m\u001b[0m\n\u001b[0;32m      5\u001b[0m ''')\n",
      "\u001b[1;31mOperationalError\u001b[0m: table meminfo already exists"
     ]
    }
   ],
   "source": [
    "# 커서 객체 생성\n",
    "cursor = conn.cursor()\n",
    "# 테이블 생성 sql 실행\n",
    "cursor.execute('''\n",
    "              create table meminfo(id text primary key, passwd text, name text, time text);\n",
    "''')\n",
    "print(\"테이블 생성 성공\")"
   ]
  },
  {
   "cell_type": "code",
   "execution_count": 4,
   "id": "6a0b8817",
   "metadata": {},
   "outputs": [
    {
     "ename": "IntegrityError",
     "evalue": "UNIQUE constraint failed: meminfo.id",
     "output_type": "error",
     "traceback": [
      "\u001b[1;31m---------------------------------------------------------------------------\u001b[0m",
      "\u001b[1;31mIntegrityError\u001b[0m                            Traceback (most recent call last)",
      "\u001b[1;32m~\\AppData\\Local\\Temp/ipykernel_23248/3642720017.py\u001b[0m in \u001b[0;36m<module>\u001b[1;34m\u001b[0m\n\u001b[0;32m      4\u001b[0m \u001b[0mtime1\u001b[0m \u001b[1;33m=\u001b[0m \u001b[0mdatetime\u001b[0m\u001b[1;33m.\u001b[0m\u001b[0mdatetime\u001b[0m\u001b[1;33m.\u001b[0m\u001b[0mnow\u001b[0m\u001b[1;33m(\u001b[0m\u001b[1;33m)\u001b[0m\u001b[1;33m\u001b[0m\u001b[1;33m\u001b[0m\u001b[0m\n\u001b[0;32m      5\u001b[0m \u001b[1;33m\u001b[0m\u001b[0m\n\u001b[1;32m----> 6\u001b[1;33m cursor.execute('''\n\u001b[0m\u001b[0;32m      7\u001b[0m     insert into meminfo(id, passwd, name, time) values (?,?,?,?)''',\n\u001b[0;32m      8\u001b[0m              (id1,pwd1,name1,time1))\n",
      "\u001b[1;31mIntegrityError\u001b[0m: UNIQUE constraint failed: meminfo.id"
     ]
    }
   ],
   "source": [
    "id1 = 'wynam'\n",
    "pwd1 = 'n1234'\n",
    "name1 = '남운영'\n",
    "time1 = datetime.datetime.now()\n",
    "# 레코드 삽입 sql 실행\n",
    "cursor.execute('''\n",
    "    insert into meminfo(id, passwd, name, time) values (?,?,?,?)''',\n",
    "             (id1,pwd1,name1,time1))\n",
    "print(\"첫번째 사용자 레코드 추가 성공\");\n",
    "\n",
    "id2 = 'jklee'\n",
    "pwd2 = 'l3456'\n",
    "name2 = '이전경'\n",
    "time2 = datetime.datetime.now()\n",
    "\n",
    "cursor.execute('''\n",
    "    insert into meminfo(id, passwd, name, time) values (?,?,?,?)''',\n",
    "             (id2,pwd2,name2,time2))\n",
    "print(\"두 번째 사용자 레코드 추가 성공\");\n",
    "\n",
    "conn.commit() # 데이터베이스 내보내기(저장)\n",
    "conn.close() # 데이터베이스 연결 종료"
   ]
  },
  {
   "cell_type": "code",
   "execution_count": 5,
   "id": "09b7d447",
   "metadata": {},
   "outputs": [
    {
     "name": "stdout",
     "output_type": "stream",
     "text": [
      "ID : wynam, password: n1234, name : 남운영, time : 2021-10-03 23:55:15.844853\n",
      "ID : jklee, password: l3456, name : 이전경, time : 2021-10-03 23:55:15.847822\n"
     ]
    }
   ],
   "source": [
    "cursor.execute(\"select * from meminfo\") # 데이터 조회 sql\n",
    "rows = cursor.fetchall() # 모든 행 가져오기\n",
    "\n",
    "for row in rows:\n",
    "    print(\"ID : %s, password: %s, name : %s, time : %s\"%(row[0],row[1],row[2],row[3]))\n",
    "\n",
    "conn.close()"
   ]
  },
  {
   "cell_type": "code",
   "execution_count": null,
   "id": "accc5b22",
   "metadata": {},
   "outputs": [],
   "source": []
  }
 ],
 "metadata": {
  "kernelspec": {
   "display_name": "Python 3 (ipykernel)",
   "language": "python",
   "name": "python3"
  },
  "language_info": {
   "codemirror_mode": {
    "name": "ipython",
    "version": 3
   },
   "file_extension": ".py",
   "mimetype": "text/x-python",
   "name": "python",
   "nbconvert_exporter": "python",
   "pygments_lexer": "ipython3",
   "version": "3.9.4"
  }
 },
 "nbformat": 4,
 "nbformat_minor": 5
}
