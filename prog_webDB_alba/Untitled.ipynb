{
 "cells": [
  {
   "cell_type": "markdown",
   "id": "5471a552",
   "metadata": {},
   "source": [
    "### 20184645 컴퓨터공학과 김영찬\n",
    "### prog_webDB_alba"
   ]
  },
  {
   "cell_type": "code",
   "execution_count": 1,
   "id": "e6027edb",
   "metadata": {},
   "outputs": [],
   "source": [
    "# 크롤링에 필요한 각 라이브러리, 모둘 임포트 및 설치\n",
    "#!pip install selenium\n",
    "#!pip install bs4\n",
    "#!pip install flask\n",
    "import re # 정규표현식을 위한 임포트\n",
    "import time # 웹 페이지가 뜨는 동안 시간지연을 하기 위해 임포트\n",
    "import urllib\n",
    "from selenium import webdriver\n",
    "from bs4 import BeautifulSoup\n",
    "from flask import Flask,render_template, request\n",
    "import sqlite3"
   ]
  },
  {
   "cell_type": "code",
   "execution_count": 2,
   "id": "5515deff",
   "metadata": {},
   "outputs": [],
   "source": [
    "#플라스크 객체 생성\n",
    "app = Flask(__name__)\n"
   ]
  },
  {
   "cell_type": "code",
   "execution_count": 3,
   "id": "10005e6f",
   "metadata": {},
   "outputs": [],
   "source": [
    "@app.route('/main')\n",
    "def alba_login():\n",
    "    return render_template('login.html')\n",
    "\n",
    "# 로그인 처리\n",
    "@app.route('/login', methods=['POST'])\n",
    "def login():\n",
    "    # 폼 입력값 가져오기\n",
    "    idn = request.form['id']\n",
    "    pwd = request.form['passwd']\n",
    "    \n",
    "    # 알바몬 웹 사이트 키기\n",
    "    global browser \n",
    "    browser = webdriver.Chrome(\"./chromedriver.exe\")\n",
    "    browser.get(\"https://www.albamon.com/main\")\n",
    "    # 맨 처음 홈페이지에 들어가고 기업/개인 을 선택하는 팝업에서 개인을 클릭\n",
    "    main=browser.find_element_by_id(\"btn_MType\")\n",
    "    main.click()\n",
    "    # 로그인 페이지 이동\n",
    "    browser.find_element_by_xpath(\"//*[@id='subContentbg']/div[1]/div[2]/div[1]/ul/li[1]/a\").click()\n",
    "    global time\n",
    "    time.sleep(2)\n",
    "    browser.switch_to.window(browser.window_handles[1])\n",
    "    # idn pwd 입력\n",
    "    browser.find_element_by_name('M_ID').send_keys(idn)\n",
    "    browser.find_element_by_name('M_PWD').send_keys(pwd)\n",
    "    browser.find_element_by_xpath(\"//*[@id='secMbr']/div/div[1]/form/div[2]/button\").click()\n",
    "    browser.switch_to.window(browser.window_handles[0])\n",
    "    # 뷰티풀숩 객체 생성\n",
    "    base_url = urllib.request.urlopen(browser.current_url).read()\n",
    "    soup = BeautifulSoup(base_url,\"html.parser\")\n",
    "    # 로그인을 성공 했을때만 나오는 span태그\n",
    "    log = soup.find('span', class_='logArea')\n",
    "    # 데이터베이스 연결\n",
    "    conn = sqlite3.connect('member.db')\n",
    "    conn.row_factory = sqlite3.Row\n",
    "    cursor = conn.cursor()\n",
    "    \n",
    "    cursor.execute('select id from meminfo where id = ?',(idn,))\n",
    "    row = cursor.fetchone()\n",
    "\n",
    "    # 로그인을 성공했을 경우\n",
    "    if log != None:\n",
    "        #로그인을 성공하고 로그인 한 데이터(id/pw)가 데이터베이스에 없을경우\n",
    "        if row == None:\n",
    "            #로그인 한 데이터를 데이터베이스에 추가\n",
    "            cursor.execute('''\n",
    "            insert into meminfo (id, passwd) values(?, ?)''', \n",
    "                           (idn, pwd))\n",
    "            conn.commit()\n",
    "        return render_template('albaForm.html')\n",
    "    # 안됐으면,   \n",
    "    return(\"<h2>로그인 에러 !!</h2>\")"
   ]
  },
  {
   "cell_type": "code",
   "execution_count": 4,
   "id": "c4912392",
   "metadata": {},
   "outputs": [],
   "source": [
    "@app.route('/register')\n",
    "def register():\n",
    "    browser = webdriver.Chrome(\"./chromedriver.exe\")\n",
    "    browser.get(\"https://www.albamon.com/account/regist\")\n",
    "    return(\"<h2> 회원가입을 왼료한 후 메인페이지로 돌아가 로그인 해주세요!</h2>\")"
   ]
  },
  {
   "cell_type": "code",
   "execution_count": 5,
   "id": "7cccb110",
   "metadata": {},
   "outputs": [],
   "source": [
    "# 알바 찾기 처리\n",
    "@app.route('/find_alba', methods=['POST'])\n",
    "def find_alba():\n",
    "        \n",
    "    # 폼 입력값 가져오기\n",
    "    lo = request.form['loc']\n",
    "    loc = request.form['location']\n",
    "    d_loc = request.form['detail_location']\n",
    "    # 알바몬 페이지의 입력된 폼값으로 이동\n",
    "    browser.find_element_by_link_text(lo).click()\n",
    "    browser.find_element_by_link_text(loc + \" \"+d_loc).click()\n",
    "    time.sleep(1)\n",
    "    browser.find_element_by_id(\"dev_area_dong_code_B190\").click()\n",
    "    s_location=browser.find_element_by_class_name(\"sch\")\n",
    "    s_location.click()\n",
    "    time.sleep(2) # 위치가 바뀌고 브라우저가 새로고침 되는동안 다음 동작이 실행되면 오류가 나기떄문에 1초의 시간지연을 두었음.\n",
    "    \n",
    "        # alba 데이터베이스 연결\n",
    "    conn = sqlite3.connect('alba.db')\n",
    "\n",
    "    cursor = conn.cursor()\n",
    "\n",
    "    # alba_data 테이블 생성\n",
    "    cursor.execute('''\n",
    "                  create table alba_data(area text, subject text, money text, time text, recently text);\n",
    "    ''')\n",
    "\n",
    "     #뷰티풀숩 객체생성\n",
    "    base_url = urllib.request.urlopen(browser.current_url).read()\n",
    "    soup = BeautifulSoup(base_url,\"html.parser\")\n",
    "    \n",
    "    ths = []  # 테이블의 헤드를 담기 위한 리스트\n",
    "    tds = []\n",
    "    alba_data = [] # 알바의 정보들을 담기위함.\n",
    "    cnt = 0 # 크롤링해 온 알바들의 개수\n",
    "\n",
    "    # 크롤링해온 정보들의 필요없는문자들(ex.\\n, \\r, \\t)\n",
    "    def clean_text(data):\n",
    "        data1 = re.sub('\\n|\\r|\\t|  ','',str(data))\n",
    "        data2 = re.sub('\\r\\n','',data1)\n",
    "        return data2\n",
    "\n",
    "    # 지역 선택후 나온 페이지의 하단의 알바 정보들이 모여있는 테이블을 find\n",
    "    wrap = soup.find('div',{\"class\":\"gListWrap\"}) \n",
    "    table = wrap.find('table')\n",
    "    t_head = table.find('thead').find_all('th') # 찾은 테이블의 헤드(카테고리?(지역/금여금액/직업명 등등..))\n",
    "    t_body = table.find('tbody') # 찾은 테이블의 바디(알바들의 직접적인 정보)\n",
    "\n",
    "    # 테이블의 헤드를 하니싹 ths리스트에 담는다.\n",
    "    for th in t_head:\n",
    "        ths.append(th.get_text())\n",
    "\n",
    "    # 알바 정보들의 직접적인 정보들을 수집\n",
    "    for tr in t_body.find_all('tr'):\n",
    "        area = tr.find('td',{'class':'area'}).find('div') # 알바를 하는 지역의 정보를 담고 있는 div태그\n",
    "        area.span.decompose() # 이 div 태그에는 span태그안에 다른 텍스트가 있는데 이 택스트를 제외한 값만 가져오기 위하여 사용\n",
    "        subject_name = tr.find('td',{'class':'subject'}).find('p',{'class':'cName'}).text # p태그 안의 cName(기업명)을 수집\n",
    "        subject_ctit = tr.find('td',{'class':'subject'}).find('p',{'class':'cTit'}).text # p태그 안의 cTit(모집 제목)을 수집\n",
    "        pay_money = tr.find('td',{'class':'pay'}).find('p',{'class':'money'}).find(\"img\")[\"alt\"] \n",
    "        #일급 / 시급 / 월급과 같은 급여 지급방식이 나뉘어져 있는데 이 부분은 img 태그안의 alt속성에 표기되어있어 리스트의 [\"alt\"]의 택스트만 수집\n",
    "        pay_won = tr.find('td',{'class':'pay'}).find('p',{'class':'won'}).text # p태그 안의 won(급여)을 수집\n",
    "        # for문을 한개만 사용하여 접근하려 했지만 급여 시간의 td태그에는 class 이름이 없었기 떄문에 결국 for문을 한개 더사용하여\n",
    "        # 3번째 위치에 있는 급여 시간 수집\n",
    "        tds = list(tr.find_all('td'))\n",
    "        for td in tds:\n",
    "            a_time = tds[3].text\n",
    "        # 등록일 정보 수집\n",
    "        recently = tr.find('td',{'class':'recently'}).text\n",
    "        # 위에서 수집한 알바정보들을 불필요한 문자들을 제거한 후 alba_data 리스트에 담는다.\n",
    "        alba_data.append([clean_text(area.text),clean_text(subject_name)+clean_text(subject_ctit),clean_text(pay_money)+clean_text(pay_won),clean_text(a_time),clean_text(recently)])\n",
    "        cnt = cnt + 1\n",
    "        \n",
    "        cursor.execute('''\n",
    "        insert into alba_data(area, subject, money, time, recently) values (?,?,?,?,?)''',\n",
    "                       (clean_text(area.text), clean_text(subject_name)+clean_text(subject_ctit), clean_text(pay_money)+clean_text(pay_won),\n",
    "                        clean_text(time),clean_text(recently)))\n",
    "\n",
    "    conn.commit()\n",
    "\n",
    "    return render_template(\"result.html\",alba_data=alba_data,ths=ths, cnt=cnt) # 필요한 값들을 템플릿에 렌더링"
   ]
  },
  {
   "cell_type": "code",
   "execution_count": 6,
   "id": "7fcf5d1e",
   "metadata": {},
   "outputs": [],
   "source": [
    "@app.route('/scrap')\n",
    "def scrap():\n",
    "    browser.get(\"https://www.albamon.com/recruit/ScrapRecruit/List?AccType=M\")\n",
    "      #뷰티풀숩 객체생성\n",
    "    return render_template('albaForm.html')"
   ]
  },
  {
   "cell_type": "code",
   "execution_count": null,
   "id": "faca4d69",
   "metadata": {},
   "outputs": [
    {
     "name": "stdout",
     "output_type": "stream",
     "text": [
      " * Serving Flask app \"__main__\" (lazy loading)\n",
      " * Environment: production\n",
      "   WARNING: This is a development server. Do not use it in a production deployment.\n",
      "   Use a production WSGI server instead.\n",
      " * Debug mode: off\n"
     ]
    },
    {
     "name": "stderr",
     "output_type": "stream",
     "text": [
      " * Running on http://127.0.0.1:5000/ (Press CTRL+C to quit)\n",
      "127.0.0.1 - - [01/Nov/2021 01:21:59] \"\u001b[37mGET /main HTTP/1.1\u001b[0m\" 200 -\n",
      "127.0.0.1 - - [01/Nov/2021 01:22:21] \"\u001b[37mPOST /login HTTP/1.1\u001b[0m\" 200 -\n",
      "127.0.0.1 - - [01/Nov/2021 01:22:34] \"\u001b[37mPOST /find_alba HTTP/1.1\u001b[0m\" 200 -\n"
     ]
    }
   ],
   "source": [
    "if __name__ == '__main__':\n",
    "    app.run()\n",
    "   "
   ]
  },
  {
   "cell_type": "code",
   "execution_count": null,
   "id": "fe9d359e",
   "metadata": {},
   "outputs": [],
   "source": []
  }
 ],
 "metadata": {
  "kernelspec": {
   "display_name": "Python 3",
   "language": "python",
   "name": "python3"
  },
  "language_info": {
   "codemirror_mode": {
    "name": "ipython",
    "version": 3
   },
   "file_extension": ".py",
   "mimetype": "text/x-python",
   "name": "python",
   "nbconvert_exporter": "python",
   "pygments_lexer": "ipython3",
   "version": "3.8.8"
  }
 },
 "nbformat": 4,
 "nbformat_minor": 5
}
