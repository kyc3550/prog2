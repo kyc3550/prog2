{
 "cells": [
  {
   "cell_type": "markdown",
   "id": "5471a552",
   "metadata": {},
   "source": [
    "### 20184645 컴퓨터공학과 김영찬\n",
    "### prog_webDB_alba"
   ]
  },
  {
   "cell_type": "code",
   "execution_count": null,
   "id": "e6027edb",
   "metadata": {},
   "outputs": [],
   "source": [
    "# 크롤링에 필요한 각 라이브러리, 모둘 임포트 및 설치\n",
    "#!pip install selenium\n",
    "#!pip install bs4\n",
    "#!pip install flask\n",
    "import re # 정규표현식을 위한 임포트\n",
    "import time # 웹 페이지가 뜨는 동안 시간지연을 하기 위해 임포트\n",
    "import urllib\n",
    "from selenium import webdriver\n",
    "from bs4 import BeautifulSoup\n",
    "from flask import Flask,render_template, request\n",
    "import sqlite3"
   ]
  },
  {
   "cell_type": "code",
   "execution_count": null,
   "id": "5515deff",
   "metadata": {},
   "outputs": [],
   "source": [
    "#플라스크 객체 생성\n",
    "app = Flask(__name__)\n"
   ]
  },
  {
   "cell_type": "code",
   "execution_count": null,
   "id": "10005e6f",
   "metadata": {},
   "outputs": [],
   "source": [
    "@app.route('/main')\n",
    "def alba_login():\n",
    "    return render_template('login.html')\n",
    "\n",
    "# 로그인 처리\n",
    "@app.route('/login', methods=['POST'])\n",
    "def login():\n",
    "# 폼 입력값 가져오기\n",
    "    idn = request.form['id']\n",
    "    pwd = request.form['passwd']\n",
    "    \n",
    "    # 알바몬 웹 사이트 키기\n",
    "    global browser \n",
    "    browser = webdriver.Chrome(\"./chromedriver.exe\")\n",
    "    browser.get(\"https://www.albamon.com/main\")\n",
    "    # 맨 처음 홈페이지에 들어가고 기업/개인 을 선택하는 팝업에서 개인을 클릭\n",
    "    main=browser.find_element_by_id(\"btn_MType\")\n",
    "    main.click()\n",
    "    # 로그인 페이지 이동\n",
    "    browser.find_element_by_xpath(\"//*[@id='subContentbg']/div[1]/div[2]/div[1]/ul/li[1]/a\").click()\n",
    "    time.sleep(3)\n",
    "    browser.switch_to.window(browser.window_handles[1])\n",
    "    # idn pwd 입력\n",
    "    browser.find_element_by_name('M_ID').send_keys(idn)\n",
    "    browser.find_element_by_name('M_PWD').send_keys(pwd)\n",
    "    browser.find_element_by_xpath(\"//*[@id='secMbr']/div/div[1]/form/div[2]/button\").click()\n",
    "    browser.switch_to.window(browser.window_handles[0])\n",
    "    \n",
    "    base_url = urllib.request.urlopen(browser.current_url).read()\n",
    "    soup = BeautifulSoup(base_url,\"html.parser\")\n",
    "    \n",
    "    log = soup.find('span', class_='logArea')\n",
    "    print(log)\n",
    "    conn = sqlite3.connect('member.db')\n",
    "    conn.row_factory = sqlite3.Row\n",
    "    cursor = conn.cursor()\n",
    "    \n",
    "    cursor.execute('select id from meminfo where id = ?',(idn,))\n",
    "    row = cursor.fetchone()\n",
    "\n",
    "    # 계정/비번 조사\n",
    "    if log != None:\n",
    "        if row == None:\n",
    "            cursor.execute('''\n",
    "            insert into meminfo (id, passwd) values(?, ?)''', \n",
    "                           (idn, pwd))\n",
    "            conn.commit()\n",
    "        return render_template('albaForm.html')\n",
    "    # 안됐으면,   \n",
    "    return(\"<h2>로그인 에러 !!</h2>\")"
   ]
  },
  {
   "cell_type": "code",
   "execution_count": null,
   "id": "73135312",
   "metadata": {
    "scrolled": false
   },
   "outputs": [],
   "source": []
  },
  {
   "cell_type": "code",
   "execution_count": null,
   "id": "7cccb110",
   "metadata": {},
   "outputs": [],
   "source": [
    "# 선수 입력 처리\n",
    "@app.route('/insert', methods=['POST'])\n",
    "def insert():\n",
    "    browser.find_element_by_link_text(\"경기\").click()\n",
    "    # 폼 입력값 가져오기\n",
    "    lo = request.form['loc']\n",
    "    loc = request.form['location']\n",
    "    d_loc = request.form['detail_location']\n",
    "    outstr = \"<h2>선수 입력</h2><br><hr>\"\n",
    "    return outstr"
   ]
  },
  {
   "cell_type": "code",
   "execution_count": null,
   "id": "44fa315d",
   "metadata": {},
   "outputs": [],
   "source": [
    "if __name__ == '__main__':\n",
    "    app.run()\n",
    "   "
   ]
  },
  {
   "cell_type": "code",
   "execution_count": null,
   "id": "faca4d69",
   "metadata": {},
   "outputs": [],
   "source": []
  }
 ],
 "metadata": {
  "kernelspec": {
   "display_name": "Python 3",
   "language": "python",
   "name": "python3"
  },
  "language_info": {
   "codemirror_mode": {
    "name": "ipython",
    "version": 3
   },
   "file_extension": ".py",
   "mimetype": "text/x-python",
   "name": "python",
   "nbconvert_exporter": "python",
   "pygments_lexer": "ipython3",
   "version": "3.8.8"
  }
 },
 "nbformat": 4,
 "nbformat_minor": 5
}
